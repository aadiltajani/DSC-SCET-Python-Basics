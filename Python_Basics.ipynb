{
  "nbformat": 4,
  "nbformat_minor": 0,
  "metadata": {
    "colab": {
      "name": "Python Basics.ipynb",
      "provenance": [],
      "collapsed_sections": [
        "2F1xk6B3dzk7",
        "HRshTNkm1q4L",
        "mN3WOm4-SwVE",
        "Yi_lAHvkeEpq",
        "THlVzhoQXEFE",
        "ki3odnuTX7IW",
        "N8qqnzHuYAZw",
        "WeidcQegYEpt",
        "GeoFpNumsl8T",
        "2k8WCAmvhhdJ",
        "-XlsCzlgt1lf",
        "jfVOEMVguKQj",
        "UkbS4qu1uk7E",
        "9JfBwTc3uOju",
        "OOxqVqkMuUEr",
        "DXrREI4Tuc9b",
        "5DwCQ3ufufXd",
        "x0BYNVwFVoaF"
      ],
      "toc_visible": true,
      "authorship_tag": "ABX9TyN7nEXryuYYeobGpjzZnPK3"
    },
    "kernelspec": {
      "name": "python3",
      "display_name": "Python 3"
    }
  },
  "cells": [
    {
      "cell_type": "markdown",
      "metadata": {
        "id": "2F1xk6B3dzk7",
        "colab_type": "text"
      },
      "source": [
        "# 1 print() & comments"
      ]
    },
    {
      "cell_type": "code",
      "metadata": {
        "id": "TFgpRV8WdU4E",
        "colab_type": "code",
        "colab": {
          "base_uri": "https://localhost:8080/",
          "height": 54
        },
        "outputId": "f42240de-6242-4900-ba79-245d9de03ba0"
      },
      "source": [
        "print('Hello, welcome to the first workshop', end=' ')\n",
        "print('presented by DSC SCET.')\n",
        "print('Start time is', 10, 'pm')"
      ],
      "execution_count": null,
      "outputs": [
        {
          "output_type": "stream",
          "text": [
            "Hello, welcome to the first workshop presented by DSC SCET.\n",
            "Start time is 10 pm\n"
          ],
          "name": "stdout"
        }
      ]
    },
    {
      "cell_type": "code",
      "metadata": {
        "id": "wpsRkRTAV4zN",
        "colab_type": "code",
        "colab": {
          "base_uri": "https://localhost:8080/",
          "height": 35
        },
        "outputId": "33ff32cd-ce6d-46fb-fd71-5e41439a2423"
      },
      "source": [
        "# This is a single line comment\n",
        "'''\n",
        "this is \n",
        "a \n",
        "docstring(multi line comment)\n",
        "'''\n",
        "print(\"That didn't print anything\")"
      ],
      "execution_count": null,
      "outputs": [
        {
          "output_type": "stream",
          "text": [
            "That didn't print anything\n"
          ],
          "name": "stdout"
        }
      ]
    },
    {
      "cell_type": "markdown",
      "metadata": {
        "id": "HRshTNkm1q4L",
        "colab_type": "text"
      },
      "source": [
        "# 2 Basic data types\n",
        "\n"
      ]
    },
    {
      "cell_type": "markdown",
      "metadata": {
        "id": "Yi_lAHvkeEpq",
        "colab_type": "text"
      },
      "source": [
        "## 2.1 Python has basic datatypes like: int, float, string, complex, and boolean"
      ]
    },
    {
      "cell_type": "code",
      "metadata": {
        "id": "mBL-MmFST0e3",
        "colab_type": "code",
        "colab": {}
      },
      "source": [
        "a = 10          #int\n",
        "b = 5.2         #float\n",
        "c = 2 + 3j      #complex\n",
        "d = \"String\"    #str\n",
        "e = True        #bool"
      ],
      "execution_count": null,
      "outputs": []
    },
    {
      "cell_type": "code",
      "metadata": {
        "id": "WHQslb2vSrQZ",
        "colab_type": "code",
        "colab": {
          "base_uri": "https://localhost:8080/",
          "height": 109
        },
        "outputId": "3e2bc4a9-1441-4b6e-8be6-dffafde63f16"
      },
      "source": [
        "print(a,type(a), sep = '\\t')\n",
        "print(b,type(b), sep = '\\t')\n",
        "print(c,type(c), sep = '\\t')\n",
        "print(d,type(d), len(d), sep = '\\t')\n",
        "print(e,type(e), sep = '\\t')"
      ],
      "execution_count": null,
      "outputs": [
        {
          "output_type": "stream",
          "text": [
            "10\t<class 'int'>\n",
            "5.2\t<class 'float'>\n",
            "(2+3j)\t<class 'complex'>\n",
            "String\t<class 'str'>\t6\n",
            "True\t<class 'bool'>\n"
          ],
          "name": "stdout"
        }
      ]
    },
    {
      "cell_type": "markdown",
      "metadata": {
        "id": "THlVzhoQXEFE",
        "colab_type": "text"
      },
      "source": [
        "## 2.2 Typecasting"
      ]
    },
    {
      "cell_type": "markdown",
      "metadata": {
        "id": "ki3odnuTX7IW",
        "colab_type": "text"
      },
      "source": [
        "#### Typecasting int to other types"
      ]
    },
    {
      "cell_type": "code",
      "metadata": {
        "id": "rE2ZtHTSXJCu",
        "colab_type": "code",
        "colab": {
          "base_uri": "https://localhost:8080/",
          "height": 72
        },
        "outputId": "9a526fff-060f-49b4-baee-7df0547bbcc5"
      },
      "source": [
        "a = 10\n",
        "print(a, type(a))\n",
        "b = float(a)\n",
        "print(b, type(b))\n",
        "c = str(a)\n",
        "print(c, type(c))"
      ],
      "execution_count": null,
      "outputs": [
        {
          "output_type": "stream",
          "text": [
            "10 <class 'int'>\n",
            "10.0 <class 'float'>\n",
            "10 <class 'str'>\n"
          ],
          "name": "stdout"
        }
      ]
    },
    {
      "cell_type": "markdown",
      "metadata": {
        "id": "N8qqnzHuYAZw",
        "colab_type": "text"
      },
      "source": [
        "#### Typecasting float to other types"
      ]
    },
    {
      "cell_type": "code",
      "metadata": {
        "id": "jaofKXweXahe",
        "colab_type": "code",
        "colab": {
          "base_uri": "https://localhost:8080/",
          "height": 72
        },
        "outputId": "4aabdc74-20e1-4741-da4a-c54453a316b1"
      },
      "source": [
        "a = 12.5\n",
        "print(a, type(a))\n",
        "b = int(a)\n",
        "print(b, type(b))\n",
        "c = str(a)\n",
        "print(c, type(c))"
      ],
      "execution_count": null,
      "outputs": [
        {
          "output_type": "stream",
          "text": [
            "12.5 <class 'float'>\n",
            "12 <class 'int'>\n",
            "12.5 <class 'str'>\n"
          ],
          "name": "stdout"
        }
      ]
    },
    {
      "cell_type": "markdown",
      "metadata": {
        "id": "WeidcQegYEpt",
        "colab_type": "text"
      },
      "source": [
        "#### Typecasting string to other types"
      ]
    },
    {
      "cell_type": "code",
      "metadata": {
        "id": "vspLdHVbXsJr",
        "colab_type": "code",
        "colab": {
          "base_uri": "https://localhost:8080/",
          "height": 72
        },
        "outputId": "9563818f-c35c-49e4-d2bc-a82001be2454"
      },
      "source": [
        "a = '100'\n",
        "print(a, type(a))\n",
        "b = int(a, 2)\n",
        "print(b, type(b))\n",
        "c = float(a)\n",
        "print(c, type(c))"
      ],
      "execution_count": null,
      "outputs": [
        {
          "output_type": "stream",
          "text": [
            "100 <class 'str'>\n",
            "4 <class 'int'>\n",
            "100.0 <class 'float'>\n"
          ],
          "name": "stdout"
        }
      ]
    },
    {
      "cell_type": "markdown",
      "metadata": {
        "id": "GeoFpNumsl8T",
        "colab_type": "text"
      },
      "source": [
        "## 2.3 Every variable is just a reference to an object in Python"
      ]
    },
    {
      "cell_type": "code",
      "metadata": {
        "id": "BChejv5_Swnl",
        "colab_type": "code",
        "colab": {
          "base_uri": "https://localhost:8080/",
          "height": 54
        },
        "outputId": "db63b96e-09b5-4acf-94e1-634becd6ca27"
      },
      "source": [
        "a = 10\n",
        "b = a\n",
        "# print(a, b)\n",
        "# print('a', id(a), 'b', id(b))\n",
        "b = 20\n",
        "print(a, b)\n",
        "print('a', id(a), 'b', id(b))\n"
      ],
      "execution_count": null,
      "outputs": [
        {
          "output_type": "stream",
          "text": [
            "10 20\n",
            "a 10914784 b 10915104\n"
          ],
          "name": "stdout"
        }
      ]
    },
    {
      "cell_type": "markdown",
      "metadata": {
        "id": "wfEAEw4rB1gu",
        "colab_type": "text"
      },
      "source": [
        "## 2.4 String Methods"
      ]
    },
    {
      "cell_type": "code",
      "metadata": {
        "id": "fYNsLx4dB5ac",
        "colab_type": "code",
        "colab": {
          "base_uri": "https://localhost:8080/",
          "height": 127
        },
        "outputId": "29c92785-9817-4224-89e6-1deb1fa62999"
      },
      "source": [
        "s = \"hello world\"\n",
        "print(s.title())          # Capitalize first letters of all words\n",
        "print(s.capitalize())     # Capitalize the first letter\n",
        "print(s.upper())          # Convert a string to uppercase; prints \"HELLO\"\n",
        "print('HELLO'.lower())    # Convert a string to uppercase; prints \"hello\"\n",
        "print(s.replace('l', '(ell)'))  # Replace all instances of one substring with another\n",
        "print('  world '.strip()) # Strip leading and trailing whitespace"
      ],
      "execution_count": null,
      "outputs": [
        {
          "output_type": "stream",
          "text": [
            "Hello World\n",
            "Hello world\n",
            "HELLO WORLD\n",
            "hello\n",
            "he(ell)(ell)o wor(ell)d\n",
            "world\n"
          ],
          "name": "stdout"
        }
      ]
    },
    {
      "cell_type": "code",
      "metadata": {
        "id": "UAO6b2tHDKFZ",
        "colab_type": "code",
        "colab": {
          "base_uri": "https://localhost:8080/",
          "height": 164
        },
        "outputId": "724379c4-be5c-4dc9-c2f5-ff4dce483a10"
      },
      "source": [
        "print('hello'.count('h')) #count number of occurrences of substring\n",
        "print('hello'.find('h'))  #return the first index of the substring if found else return -1\n",
        "print('he45llo'.isalpha())  #check if the string has only alphabets\n",
        "print('123'.isdigit())    #check if the string has only digits\n",
        "print('h#ello123'.isalnum()) #check if the string is alphanumeric\n",
        "print(' \\t '.isspace())     #check if the string is space\n",
        "print('.'.join(['hello', 'world'])) #join a collection of strings with a string\n",
        "print('hreow|a|you'.split('|')) #split the string by substring"
      ],
      "execution_count": null,
      "outputs": [
        {
          "output_type": "stream",
          "text": [
            "1\n",
            "0\n",
            "False\n",
            "True\n",
            "False\n",
            "True\n",
            "hello.world\n",
            "['how', 'are', 'you']\n"
          ],
          "name": "stdout"
        }
      ]
    },
    {
      "cell_type": "markdown",
      "metadata": {
        "id": "2k8WCAmvhhdJ",
        "colab_type": "text"
      },
      "source": [
        "# 3 Operators"
      ]
    },
    {
      "cell_type": "markdown",
      "metadata": {
        "id": "-XlsCzlgt1lf",
        "colab_type": "text"
      },
      "source": [
        "## 3.1 Arithmetic Operators"
      ]
    },
    {
      "cell_type": "code",
      "metadata": {
        "id": "5Hukx5y7uyP1",
        "colab_type": "code",
        "colab": {
          "base_uri": "https://localhost:8080/",
          "height": 146
        },
        "outputId": "4f4ff4f0-0ca6-4244-8dbd-d82edcf6cbd7"
      },
      "source": [
        "a, b = 7, 3\n",
        "print('a+b  = ', a+b)   #Addition\n",
        "print('a-b  = ', a-b)   #Subtraction\n",
        "print('a*b  = ', a*b)   #Multiplication\n",
        "print('a/b  = ', a/b)   #Floating Point Division\n",
        "print('a//b = ', a//b)  #Integer Division\n",
        "print('a%b  = ', a%b)   #Modulus\n",
        "print('a**b = ', a**b)  #Exponent"
      ],
      "execution_count": null,
      "outputs": [
        {
          "output_type": "stream",
          "text": [
            "a+b  =  10\n",
            "a-b  =  4\n",
            "a*b  =  21\n",
            "a/b  =  2.3333333333333335\n",
            "a//b =  2\n",
            "a%b  =  1\n",
            "a**b =  343\n"
          ],
          "name": "stdout"
        }
      ]
    },
    {
      "cell_type": "markdown",
      "metadata": {
        "id": "jfVOEMVguKQj",
        "colab_type": "text"
      },
      "source": [
        "## 3.2 Assignment Operators"
      ]
    },
    {
      "cell_type": "code",
      "metadata": {
        "id": "f-b6zQuqv2Wj",
        "colab_type": "code",
        "colab": {
          "base_uri": "https://localhost:8080/"
        },
        "outputId": "c93659d6-c4bd-4f8e-a935-61022c4fbdbf"
      },
      "source": [
        "a, b = 10, 5\n",
        "a = b        #a = b\n",
        "print(a)"
      ],
      "execution_count": null,
      "outputs": [
        {
          "output_type": "stream",
          "text": [
            "5\n"
          ],
          "name": "stdout"
        }
      ]
    },
    {
      "cell_type": "code",
      "metadata": {
        "id": "msCiN6HHxOcP",
        "colab_type": "code",
        "colab": {
          "base_uri": "https://localhost:8080/"
        },
        "outputId": "70f2e0ff-ba56-4cb5-f58e-02aba4aa3969"
      },
      "source": [
        "a, b = 10, 5\n",
        "a += b       #a = a + b\n",
        "print(a)"
      ],
      "execution_count": null,
      "outputs": [
        {
          "output_type": "stream",
          "text": [
            "15\n"
          ],
          "name": "stdout"
        }
      ]
    },
    {
      "cell_type": "code",
      "metadata": {
        "id": "yqxcK-imxQjt",
        "colab_type": "code",
        "colab": {
          "base_uri": "https://localhost:8080/"
        },
        "outputId": "2f7a24f2-06e3-420c-a11d-1724ed6d77e9"
      },
      "source": [
        "a, b = 10, 5\n",
        "a -= b       #a = a - b\n",
        "print(a)"
      ],
      "execution_count": null,
      "outputs": [
        {
          "output_type": "stream",
          "text": [
            "5\n"
          ],
          "name": "stdout"
        }
      ]
    },
    {
      "cell_type": "code",
      "metadata": {
        "id": "RFTJPBkPxTMA",
        "colab_type": "code",
        "colab": {
          "base_uri": "https://localhost:8080/"
        },
        "outputId": "c1d93432-f075-4dc7-8cf7-3ddc87d1833b"
      },
      "source": [
        "a, b = 10, 5\n",
        "a *= b       #a = a * b\n",
        "print(a)"
      ],
      "execution_count": null,
      "outputs": [
        {
          "output_type": "stream",
          "text": [
            "50\n"
          ],
          "name": "stdout"
        }
      ]
    },
    {
      "cell_type": "code",
      "metadata": {
        "id": "FRng-JYMxV3I",
        "colab_type": "code",
        "colab": {
          "base_uri": "https://localhost:8080/"
        },
        "outputId": "0bde815c-f078-4268-bd4b-c3898bd13589"
      },
      "source": [
        "a, b = 10, 5\n",
        "a /= b       #a = a / b\n",
        "print(a)"
      ],
      "execution_count": null,
      "outputs": [
        {
          "output_type": "stream",
          "text": [
            "2.0\n"
          ],
          "name": "stdout"
        }
      ]
    },
    {
      "cell_type": "code",
      "metadata": {
        "id": "g9Jk91zoxz7N",
        "colab_type": "code",
        "colab": {
          "base_uri": "https://localhost:8080/",
          "height": 35
        },
        "outputId": "51384116-20c4-4d29-c102-25cf27eb2aea"
      },
      "source": [
        "a, b = 10, 3\n",
        "a %= b       #a = a % b\n",
        "print(a)"
      ],
      "execution_count": null,
      "outputs": [
        {
          "output_type": "stream",
          "text": [
            "1\n"
          ],
          "name": "stdout"
        }
      ]
    },
    {
      "cell_type": "code",
      "metadata": {
        "id": "IT-RUQdAx21o",
        "colab_type": "code",
        "colab": {
          "base_uri": "https://localhost:8080/"
        },
        "outputId": "6b226282-160a-41d4-8992-057ba753a1ca"
      },
      "source": [
        "a, b = 10, 5\n",
        "a //= b       #a = a // b\n",
        "print(a)"
      ],
      "execution_count": null,
      "outputs": [
        {
          "output_type": "stream",
          "text": [
            "2\n"
          ],
          "name": "stdout"
        }
      ]
    },
    {
      "cell_type": "code",
      "metadata": {
        "id": "wWGh477Gx5BG",
        "colab_type": "code",
        "colab": {
          "base_uri": "https://localhost:8080/"
        },
        "outputId": "97b01949-f9dc-4dcd-9770-fe8560b59c92"
      },
      "source": [
        "a, b = 10, 5\n",
        "a **= b       #a = a ** b\n",
        "print(a)"
      ],
      "execution_count": null,
      "outputs": [
        {
          "output_type": "stream",
          "text": [
            "100000\n"
          ],
          "name": "stdout"
        }
      ]
    },
    {
      "cell_type": "markdown",
      "metadata": {
        "id": "UkbS4qu1uk7E",
        "colab_type": "text"
      },
      "source": [
        "## 3.3 Unary Operator"
      ]
    },
    {
      "cell_type": "code",
      "metadata": {
        "id": "p5Y8FTxext57",
        "colab_type": "code",
        "colab": {
          "base_uri": "https://localhost:8080/"
        },
        "outputId": "153ba8ff-5b80-4525-f0c5-212003368e54"
      },
      "source": [
        "a = -10   #Unary minus (-)\n",
        "print(a)\n",
        "a = -a\n",
        "print(a)"
      ],
      "execution_count": null,
      "outputs": [
        {
          "output_type": "stream",
          "text": [
            "-10\n",
            "10\n"
          ],
          "name": "stdout"
        }
      ]
    },
    {
      "cell_type": "markdown",
      "metadata": {
        "id": "9JfBwTc3uOju",
        "colab_type": "text"
      },
      "source": [
        "## 3.4 Relational Operators"
      ]
    },
    {
      "cell_type": "code",
      "metadata": {
        "id": "4rVCbDOo7fjP",
        "colab_type": "code",
        "colab": {
          "base_uri": "https://localhost:8080/",
          "height": 127
        },
        "outputId": "ca1817db-414b-4ea9-a4f8-0d485c77c3b8"
      },
      "source": [
        "a, b = 10, 10\n",
        "print('a==b', a==b)   #Equals to\n",
        "print('a!=b', a!=b)   #Not equals to\n",
        "print('a>b', a>b)     #Greater than\n",
        "print('a>=b', a>=b)   #Greater than or equal to\n",
        "print('a<b', a<b)     #Less than\n",
        "print('a<=b', a<=b)   #Less than or equal to"
      ],
      "execution_count": null,
      "outputs": [
        {
          "output_type": "stream",
          "text": [
            "a==b True\n",
            "a!=b False\n",
            "a>b False\n",
            "a>=b True\n",
            "a<b False\n",
            "a<=b True\n"
          ],
          "name": "stdout"
        }
      ]
    },
    {
      "cell_type": "markdown",
      "metadata": {
        "id": "s8qQZvy51gm4",
        "colab_type": "text"
      },
      "source": [
        "Very much used in if...else:"
      ]
    },
    {
      "cell_type": "code",
      "metadata": {
        "id": "dWLy_4vl1lTo",
        "colab_type": "code",
        "colab": {
          "base_uri": "https://localhost:8080/",
          "height": 35
        },
        "outputId": "ff63850d-8ef9-4706-a2bc-5d0a3ad9164c"
      },
      "source": [
        "if 2 > 3:\n",
        "  print(True)\n",
        "else:\n",
        "  print(False)"
      ],
      "execution_count": null,
      "outputs": [
        {
          "output_type": "stream",
          "text": [
            "False\n"
          ],
          "name": "stdout"
        }
      ]
    },
    {
      "cell_type": "code",
      "metadata": {
        "id": "6msCp4rz1rdV",
        "colab_type": "code",
        "colab": {
          "base_uri": "https://localhost:8080/",
          "height": 35
        },
        "outputId": "e331f098-8715-4922-c462-1710465b9f4b"
      },
      "source": [
        "a, b = 7, 8\n",
        "if a > b:\n",
        "  print('a is greater')\n",
        "elif b > a:\n",
        "  print('b is greater')\n",
        "else:\n",
        "  print('both are equal')"
      ],
      "execution_count": null,
      "outputs": [
        {
          "output_type": "stream",
          "text": [
            "b is greater\n"
          ],
          "name": "stdout"
        }
      ]
    },
    {
      "cell_type": "markdown",
      "metadata": {
        "id": "OOxqVqkMuUEr",
        "colab_type": "text"
      },
      "source": [
        "## 3.5 Logical Operators"
      ]
    },
    {
      "cell_type": "code",
      "metadata": {
        "id": "HRQuDg-M8Yp-",
        "colab_type": "code",
        "colab": {
          "base_uri": "https://localhost:8080/",
          "height": 72
        },
        "outputId": "edcc319d-84e1-41aa-c973-22e1f2d95401"
      },
      "source": [
        "a = True\n",
        "b = True\n",
        "print(a and b)\n",
        "print(a or b)\n",
        "print(not a)"
      ],
      "execution_count": null,
      "outputs": [
        {
          "output_type": "stream",
          "text": [
            "True\n",
            "True\n",
            "False\n"
          ],
          "name": "stdout"
        }
      ]
    },
    {
      "cell_type": "markdown",
      "metadata": {
        "id": "DXrREI4Tuc9b",
        "colab_type": "text"
      },
      "source": [
        "## 3.6 Bitwise Operators"
      ]
    },
    {
      "cell_type": "code",
      "metadata": {
        "id": "siERVmYCLcH3",
        "colab_type": "code",
        "colab": {
          "base_uri": "https://localhost:8080/",
          "height": 72
        },
        "outputId": "e333f338-df2e-4b43-b16c-94a902e8f84a"
      },
      "source": [
        "a, b = 12, 9\n",
        "print('a:'+bin(a)+'\\nb:'+bin(b))\n",
        "a&b, bin(a&b) #Binary and"
      ],
      "execution_count": null,
      "outputs": [
        {
          "output_type": "stream",
          "text": [
            "a:0b1100\n",
            "b:0b1001\n"
          ],
          "name": "stdout"
        },
        {
          "output_type": "execute_result",
          "data": {
            "text/plain": [
              "(8, '0b1000')"
            ]
          },
          "metadata": {
            "tags": []
          },
          "execution_count": 71
        }
      ]
    },
    {
      "cell_type": "code",
      "metadata": {
        "id": "d0HyU9nPOpeP",
        "colab_type": "code",
        "colab": {
          "base_uri": "https://localhost:8080/",
          "height": 72
        },
        "outputId": "56708030-5f89-438c-d576-0001047ae10a"
      },
      "source": [
        "print('a:'+bin(a)+'\\nb:'+bin(b))\n",
        "a|b, bin(a|b) #Binary or"
      ],
      "execution_count": null,
      "outputs": [
        {
          "output_type": "stream",
          "text": [
            "a:0b1100\n",
            "b:0b1001\n"
          ],
          "name": "stdout"
        },
        {
          "output_type": "execute_result",
          "data": {
            "text/plain": [
              "(13, '0b1101')"
            ]
          },
          "metadata": {
            "tags": []
          },
          "execution_count": 72
        }
      ]
    },
    {
      "cell_type": "code",
      "metadata": {
        "id": "rulWsyQ9OqUk",
        "colab_type": "code",
        "colab": {
          "base_uri": "https://localhost:8080/",
          "height": 72
        },
        "outputId": "e757ae97-5140-4d2b-b207-7c4e59b6fc9f"
      },
      "source": [
        "print('a:'+bin(a)+'\\nb:'+bin(b))\n",
        "a^b, bin(a^b) #Binary xor"
      ],
      "execution_count": null,
      "outputs": [
        {
          "output_type": "stream",
          "text": [
            "a:0b1100\n",
            "b:0b1001\n"
          ],
          "name": "stdout"
        },
        {
          "output_type": "execute_result",
          "data": {
            "text/plain": [
              "(5, '0b101')"
            ]
          },
          "metadata": {
            "tags": []
          },
          "execution_count": 73
        }
      ]
    },
    {
      "cell_type": "code",
      "metadata": {
        "id": "sPiHa-TaOqtk",
        "colab_type": "code",
        "colab": {
          "base_uri": "https://localhost:8080/",
          "height": 53
        },
        "outputId": "bd8b413f-ccc1-460c-b8ae-2ef8a9d9f208"
      },
      "source": [
        "print('a:'+bin(a))\n",
        "~a, bin(~a) #Binary complement -(a+1)"
      ],
      "execution_count": null,
      "outputs": [
        {
          "output_type": "stream",
          "text": [
            "a:0b1100\n"
          ],
          "name": "stdout"
        },
        {
          "output_type": "execute_result",
          "data": {
            "text/plain": [
              "(-13, '-0b1101')"
            ]
          },
          "metadata": {
            "tags": []
          },
          "execution_count": 81
        }
      ]
    },
    {
      "cell_type": "code",
      "metadata": {
        "id": "g6EIn2hvOq_X",
        "colab_type": "code",
        "colab": {
          "base_uri": "https://localhost:8080/",
          "height": 53
        },
        "outputId": "293a37a1-985e-4c05-d953-fb07b1182f6f"
      },
      "source": [
        "print('a:'+bin(a))\n",
        "a<<2, bin(a<<2) #Binary shift left"
      ],
      "execution_count": null,
      "outputs": [
        {
          "output_type": "stream",
          "text": [
            "a:0b1100\n"
          ],
          "name": "stdout"
        },
        {
          "output_type": "execute_result",
          "data": {
            "text/plain": [
              "(48, '0b110000')"
            ]
          },
          "metadata": {
            "tags": []
          },
          "execution_count": 77
        }
      ]
    },
    {
      "cell_type": "code",
      "metadata": {
        "id": "05TxnQVqO0MJ",
        "colab_type": "code",
        "colab": {
          "base_uri": "https://localhost:8080/",
          "height": 53
        },
        "outputId": "af350eeb-011c-4c06-cbe0-12b86130ac49"
      },
      "source": [
        "print('a:'+bin(a))\n",
        "a>>2, bin(a>>2) #Binary shift right"
      ],
      "execution_count": null,
      "outputs": [
        {
          "output_type": "stream",
          "text": [
            "a:0b1100\n"
          ],
          "name": "stdout"
        },
        {
          "output_type": "execute_result",
          "data": {
            "text/plain": [
              "(3, '0b11')"
            ]
          },
          "metadata": {
            "tags": []
          },
          "execution_count": 78
        }
      ]
    },
    {
      "cell_type": "markdown",
      "metadata": {
        "id": "5DwCQ3ufufXd",
        "colab_type": "text"
      },
      "source": [
        "## 3.7 Membership Operators"
      ]
    },
    {
      "cell_type": "code",
      "metadata": {
        "id": "Igt3lCHcUUJ4",
        "colab_type": "code",
        "colab": {
          "base_uri": "https://localhost:8080/",
          "height": 53
        },
        "outputId": "ae30904a-3c8c-4689-f621-9821ef416869"
      },
      "source": [
        "a = 'This is a string'\n",
        "print('i' in a)\n",
        "print('b' in a)"
      ],
      "execution_count": null,
      "outputs": [
        {
          "output_type": "stream",
          "text": [
            "True\n",
            "False\n"
          ],
          "name": "stdout"
        }
      ]
    },
    {
      "cell_type": "code",
      "metadata": {
        "id": "99c1jDazUoY1",
        "colab_type": "code",
        "colab": {
          "base_uri": "https://localhost:8080/",
          "height": 53
        },
        "outputId": "b1b61109-c180-40f3-b89a-a4bbc0035bae"
      },
      "source": [
        "print('i' not in a)\n",
        "print('b' not in a)"
      ],
      "execution_count": null,
      "outputs": [
        {
          "output_type": "stream",
          "text": [
            "False\n",
            "True\n"
          ],
          "name": "stdout"
        }
      ]
    },
    {
      "cell_type": "markdown",
      "metadata": {
        "id": "bKG-NOfUujF-",
        "colab_type": "text"
      },
      "source": [
        "## 3.8 Identity Operators"
      ]
    },
    {
      "cell_type": "code",
      "metadata": {
        "id": "-RWZIB1NUz2L",
        "colab_type": "code",
        "colab": {
          "base_uri": "https://localhost:8080/",
          "height": 53
        },
        "outputId": "e62f974c-9800-4ff6-baab-86eb015d9fea"
      },
      "source": [
        "a = 10\n",
        "b = a\n",
        "print(a is b, id(a), id(b))\n",
        "b = 20\n",
        "print(a is b, id(a), id(b))"
      ],
      "execution_count": null,
      "outputs": [
        {
          "output_type": "stream",
          "text": [
            "True 10914784 10914784\n",
            "False 10914784 10915104\n"
          ],
          "name": "stdout"
        }
      ]
    },
    {
      "cell_type": "markdown",
      "metadata": {
        "id": "VzkQjmcTVYoI",
        "colab_type": "text"
      },
      "source": [
        "# 4 Input Output"
      ]
    },
    {
      "cell_type": "markdown",
      "metadata": {
        "id": "x0BYNVwFVoaF",
        "colab_type": "text"
      },
      "source": [
        "## 4.1 Input"
      ]
    },
    {
      "cell_type": "markdown",
      "metadata": {
        "id": "s4j0OFTbZIV1",
        "colab_type": "text"
      },
      "source": [
        "Geting Input"
      ]
    },
    {
      "cell_type": "code",
      "metadata": {
        "id": "Kh07R0ZsVmZX",
        "colab_type": "code",
        "colab": {
          "base_uri": "https://localhost:8080/",
          "height": 54
        },
        "outputId": "2a3b9a1b-fa98-468e-bfa3-ae0de18c6cf8"
      },
      "source": [
        "var = input('Enter anything: ') #Get input from user as string(by default)\n",
        "print(var, type(var))"
      ],
      "execution_count": null,
      "outputs": [
        {
          "output_type": "stream",
          "text": [
            "Enter anything: hello\n",
            "hello <class 'str'>\n"
          ],
          "name": "stdout"
        }
      ]
    },
    {
      "cell_type": "markdown",
      "metadata": {
        "id": "lOGFFQQOZK9G",
        "colab_type": "text"
      },
      "source": [
        "Getting Input in preferred type"
      ]
    },
    {
      "cell_type": "code",
      "metadata": {
        "id": "ygmh6NuRVkkF",
        "colab_type": "code",
        "colab": {
          "base_uri": "https://localhost:8080/",
          "height": 54
        },
        "outputId": "37f632b2-bea5-406f-d29b-543c84178672"
      },
      "source": [
        "var = float(input('Enter a number: ')) #Get the input as int\n",
        "print(var, type(var))"
      ],
      "execution_count": null,
      "outputs": [
        {
          "output_type": "stream",
          "text": [
            "Enter a number: 10.5\n",
            "10.5 <class 'float'>\n"
          ],
          "name": "stdout"
        }
      ]
    },
    {
      "cell_type": "markdown",
      "metadata": {
        "id": "0x22848VZPJV",
        "colab_type": "text"
      },
      "source": [
        "Splitting input"
      ]
    },
    {
      "cell_type": "code",
      "metadata": {
        "id": "axnt2idIZAB2",
        "colab_type": "code",
        "colab": {
          "base_uri": "https://localhost:8080/",
          "height": 54
        },
        "outputId": "be73b0ba-22ac-4072-9cc1-69fa681f8be6"
      },
      "source": [
        "var = input('Enter space separated values: ').split(',') #split() by default splits input by <space>\n",
        "print(var, type(var), len(var))"
      ],
      "execution_count": null,
      "outputs": [
        {
          "output_type": "stream",
          "text": [
            "Enter space separated values: 10,20,30\n",
            "['10', '20', '30'] <class 'list'> 3\n"
          ],
          "name": "stdout"
        }
      ]
    },
    {
      "cell_type": "markdown",
      "metadata": {
        "id": "dGXv2gBoZysP",
        "colab_type": "text"
      },
      "source": [
        "## 4.2 Output"
      ]
    },
    {
      "cell_type": "markdown",
      "metadata": {
        "id": "J16sqHYOZ9XY",
        "colab_type": "text"
      },
      "source": [
        "Formatted Output"
      ]
    },
    {
      "cell_type": "code",
      "metadata": {
        "id": "hOaag2XRZ6Tg",
        "colab_type": "code",
        "colab": {
          "base_uri": "https://localhost:8080/",
          "height": 35
        },
        "outputId": "16dee66f-5084-49d4-f861-c27757960f2d"
      },
      "source": [
        "print(f'5 divided by 2 is {5}')"
      ],
      "execution_count": null,
      "outputs": [
        {
          "output_type": "stream",
          "text": [
            "5 divided by 2 is 5\n"
          ],
          "name": "stdout"
        }
      ]
    },
    {
      "cell_type": "code",
      "metadata": {
        "id": "d0lKN3LOaNrl",
        "colab_type": "code",
        "colab": {
          "base_uri": "https://localhost:8080/",
          "height": 35
        },
        "outputId": "72764a01-a154-42ec-ba70-dfd35cb7bd4a"
      },
      "source": [
        "print('{0} divided by {0} is {1}'.format(5, 5/5))"
      ],
      "execution_count": null,
      "outputs": [
        {
          "output_type": "stream",
          "text": [
            "5 divided by 5 is 1.0\n"
          ],
          "name": "stdout"
        }
      ]
    },
    {
      "cell_type": "markdown",
      "metadata": {
        "id": "dXyZOwYdaoUc",
        "colab_type": "text"
      },
      "source": [
        "# 5 Containers"
      ]
    },
    {
      "cell_type": "markdown",
      "metadata": {
        "id": "whnT3oWqaqr9",
        "colab_type": "text"
      },
      "source": [
        "## 5.1 List"
      ]
    },
    {
      "cell_type": "markdown",
      "metadata": {
        "id": "kQXz__v-sAhJ",
        "colab_type": "text"
      },
      "source": [
        "### 5.1.1 Creating List and Accessing elements"
      ]
    },
    {
      "cell_type": "markdown",
      "metadata": {
        "id": "0DjfoDNDasgO",
        "colab_type": "text"
      },
      "source": [
        "List is an ordered collection of any type and is mutable"
      ]
    },
    {
      "cell_type": "code",
      "metadata": {
        "id": "oogXcQxia6Wc",
        "colab_type": "code",
        "colab": {
          "base_uri": "https://localhost:8080/",
          "height": 35
        },
        "outputId": "7225d5d2-8c23-43ba-fd02-2ede6bb687c2"
      },
      "source": [
        "my_list = [1,2,3,'hello']\n",
        "print(my_list, type(my_list))"
      ],
      "execution_count": null,
      "outputs": [
        {
          "output_type": "stream",
          "text": [
            "[1, 2, 3, 'hello'] <class 'list'>\n"
          ],
          "name": "stdout"
        }
      ]
    },
    {
      "cell_type": "code",
      "metadata": {
        "id": "9zC1rORfa991",
        "colab_type": "code",
        "colab": {
          "base_uri": "https://localhost:8080/",
          "height": 53
        },
        "outputId": "9a078f40-1690-4d0f-ba0c-7cfbbb022799"
      },
      "source": [
        "print(my_list[1])\n",
        "print(my_list[0])"
      ],
      "execution_count": null,
      "outputs": [
        {
          "output_type": "stream",
          "text": [
            "2\n",
            "1\n"
          ],
          "name": "stdout"
        }
      ]
    },
    {
      "cell_type": "code",
      "metadata": {
        "id": "d3HgWuQrsit-",
        "colab_type": "code",
        "colab": {
          "base_uri": "https://localhost:8080/",
          "height": 35
        },
        "outputId": "a7a0de14-467a-43b4-d1e7-ed952cd493b7"
      },
      "source": [
        "my_list = [1, 2.5, 'hey', 'hello', 2+3j, [10, 11, 12]]\n",
        "my_list"
      ],
      "execution_count": null,
      "outputs": [
        {
          "output_type": "execute_result",
          "data": {
            "text/plain": [
              "[1, 2.5, 'hey', 'hello', (2+3j), [10, 11, 12]]"
            ]
          },
          "metadata": {
            "tags": []
          },
          "execution_count": 86
        }
      ]
    },
    {
      "cell_type": "code",
      "metadata": {
        "id": "C23n4fSlcG0g",
        "colab_type": "code",
        "colab": {
          "base_uri": "https://localhost:8080/",
          "height": 35
        },
        "outputId": "ca6a79a9-9d66-4677-dbcc-ecf19df102f2"
      },
      "source": [
        "my_list[3] = 'replaced'\n",
        "my_list"
      ],
      "execution_count": null,
      "outputs": [
        {
          "output_type": "execute_result",
          "data": {
            "text/plain": [
              "[1, 2.5, 'hey', 'replaced', (2+3j), [10, 11, 12]]"
            ]
          },
          "metadata": {
            "tags": []
          },
          "execution_count": 88
        }
      ]
    },
    {
      "cell_type": "code",
      "metadata": {
        "id": "UirxNVnyuKAc",
        "colab_type": "code",
        "colab": {
          "base_uri": "https://localhost:8080/",
          "height": 35
        },
        "outputId": "35589c7e-199f-4d57-9a7d-1f35f1665801"
      },
      "source": [
        "len(my_list) #Get the length of the list i.e. number of elements"
      ],
      "execution_count": null,
      "outputs": [
        {
          "output_type": "execute_result",
          "data": {
            "text/plain": [
              "6"
            ]
          },
          "metadata": {
            "tags": []
          },
          "execution_count": 22
        }
      ]
    },
    {
      "cell_type": "markdown",
      "metadata": {
        "id": "DEU_a1WBsJym",
        "colab_type": "text"
      },
      "source": [
        "### 5.1.2 List Slicing"
      ]
    },
    {
      "cell_type": "markdown",
      "metadata": {
        "id": "ENjDLCsmsPWB",
        "colab_type": "text"
      },
      "source": [
        "List slicing is a way to access a required part of list"
      ]
    },
    {
      "cell_type": "code",
      "metadata": {
        "id": "gZvwdnNksNYn",
        "colab_type": "code",
        "colab": {
          "base_uri": "https://localhost:8080/",
          "height": 35
        },
        "outputId": "95873613-3194-4f2d-d0ce-07ddcf98b56b"
      },
      "source": [
        "my_list = [1,2,3,4,5,6,7,8,9,10]\n",
        "my_list[0:4]  #my_list[start:end:step] \n",
        "# returns list from satrt position to position end-1"
      ],
      "execution_count": null,
      "outputs": [
        {
          "output_type": "execute_result",
          "data": {
            "text/plain": [
              "[1, 2, 3, 4]"
            ]
          },
          "metadata": {
            "tags": []
          },
          "execution_count": 39
        }
      ]
    },
    {
      "cell_type": "code",
      "metadata": {
        "id": "kuLopWsVtBHy",
        "colab_type": "code",
        "colab": {
          "base_uri": "https://localhost:8080/",
          "height": 35
        },
        "outputId": "f5726187-ed25-4e3e-f60b-b3f5bff6d074"
      },
      "source": [
        "my_list[2:] #returns list from position to end "
      ],
      "execution_count": null,
      "outputs": [
        {
          "output_type": "execute_result",
          "data": {
            "text/plain": [
              "[3, 4, 5, 6, 7, 8, 9, 10]"
            ]
          },
          "metadata": {
            "tags": []
          },
          "execution_count": 16
        }
      ]
    },
    {
      "cell_type": "code",
      "metadata": {
        "id": "ql58Rn2etS76",
        "colab_type": "code",
        "colab": {
          "base_uri": "https://localhost:8080/",
          "height": 35
        },
        "outputId": "8235f3bd-0fce-44b5-9cf6-018dec7fb52a"
      },
      "source": [
        "my_list[:5] #returns list from start to position-1"
      ],
      "execution_count": null,
      "outputs": [
        {
          "output_type": "execute_result",
          "data": {
            "text/plain": [
              "[1, 2, 3, 4, 5]"
            ]
          },
          "metadata": {
            "tags": []
          },
          "execution_count": 17
        }
      ]
    },
    {
      "cell_type": "code",
      "metadata": {
        "id": "S-OabxkvtlHo",
        "colab_type": "code",
        "colab": {
          "base_uri": "https://localhost:8080/",
          "height": 35
        },
        "outputId": "c7859956-4289-419c-ec54-97171532c003"
      },
      "source": [
        "my_list[::2] #returns list with step=2 i.e. skip one element\n",
        "#By default, step = 1"
      ],
      "execution_count": null,
      "outputs": [
        {
          "output_type": "execute_result",
          "data": {
            "text/plain": [
              "[1, 3, 5, 7, 9]"
            ]
          },
          "metadata": {
            "tags": []
          },
          "execution_count": 18
        }
      ]
    },
    {
      "cell_type": "code",
      "metadata": {
        "id": "KqJYBLMTt1L-",
        "colab_type": "code",
        "colab": {
          "base_uri": "https://localhost:8080/",
          "height": 35
        },
        "outputId": "ec3227cf-f4aa-4231-dbb5-5372e010c33c"
      },
      "source": [
        "my_list[::] #returns the whole list start=0, end=length of list, step=1"
      ],
      "execution_count": null,
      "outputs": [
        {
          "output_type": "execute_result",
          "data": {
            "text/plain": [
              "[1, 2, 3, 4, 5, 6, 7, 8, 9, 10]"
            ]
          },
          "metadata": {
            "tags": []
          },
          "execution_count": 40
        }
      ]
    },
    {
      "cell_type": "code",
      "metadata": {
        "id": "4Px9Y5H-uGt9",
        "colab_type": "code",
        "colab": {
          "base_uri": "https://localhost:8080/",
          "height": 35
        },
        "outputId": "f0e85891-61cb-41eb-bafd-2239ca4a30db"
      },
      "source": [
        "my_list[::-1] #returns the list in reverse order"
      ],
      "execution_count": null,
      "outputs": [
        {
          "output_type": "execute_result",
          "data": {
            "text/plain": [
              "[10, 9, 8, 7, 6, 5, 4, 3, 2, 1]"
            ]
          },
          "metadata": {
            "tags": []
          },
          "execution_count": 24
        }
      ]
    },
    {
      "cell_type": "code",
      "metadata": {
        "id": "XP8woUO1ufDZ",
        "colab_type": "code",
        "colab": {
          "base_uri": "https://localhost:8080/",
          "height": 35
        },
        "outputId": "51d0b10f-4694-4e1c-850a-62cc37a5539c"
      },
      "source": [
        "my_list[-1:-4:-1] #returns the list from -1 to -3"
      ],
      "execution_count": null,
      "outputs": [
        {
          "output_type": "execute_result",
          "data": {
            "text/plain": [
              "[10, 9, 8]"
            ]
          },
          "metadata": {
            "tags": []
          },
          "execution_count": 26
        }
      ]
    },
    {
      "cell_type": "code",
      "metadata": {
        "id": "6fv_Iblduqq-",
        "colab_type": "code",
        "colab": {
          "base_uri": "https://localhost:8080/",
          "height": 35
        },
        "outputId": "192e9b1a-0471-4a9d-e0c8-18d7922d0984"
      },
      "source": [
        "my_list[-3:] #returns last 3 elements"
      ],
      "execution_count": null,
      "outputs": [
        {
          "output_type": "execute_result",
          "data": {
            "text/plain": [
              "[8, 9, 10]"
            ]
          },
          "metadata": {
            "tags": []
          },
          "execution_count": 41
        }
      ]
    },
    {
      "cell_type": "code",
      "metadata": {
        "id": "-6LHzRbKu4eP",
        "colab_type": "code",
        "colab": {}
      },
      "source": [
        ""
      ],
      "execution_count": null,
      "outputs": []
    },
    {
      "cell_type": "markdown",
      "metadata": {
        "id": "XJbo_u9HvN35",
        "colab_type": "text"
      },
      "source": [
        "### 5.1.3 List methods"
      ]
    },
    {
      "cell_type": "code",
      "metadata": {
        "id": "lYJj91jcvQtR",
        "colab_type": "code",
        "colab": {}
      },
      "source": [
        "my_list = [1,2,3,4,5,6,7,8,9,10]\n"
      ],
      "execution_count": null,
      "outputs": []
    },
    {
      "cell_type": "code",
      "metadata": {
        "id": "ZKsMqII_hOsL",
        "colab_type": "code",
        "colab": {
          "base_uri": "https://localhost:8080/",
          "height": 35
        },
        "outputId": "d4260b61-2017-4678-c240-1f082e89b71d"
      },
      "source": [
        "min(my_list), max(my_list) #Get the minimum and maximum element in the list"
      ],
      "execution_count": null,
      "outputs": [
        {
          "output_type": "execute_result",
          "data": {
            "text/plain": [
              "(1, 10)"
            ]
          },
          "metadata": {
            "tags": []
          },
          "execution_count": 124
        }
      ]
    },
    {
      "cell_type": "code",
      "metadata": {
        "id": "sQwuK1qUvuFg",
        "colab_type": "code",
        "colab": {
          "base_uri": "https://localhost:8080/",
          "height": 35
        },
        "outputId": "59a1b156-cc44-4f57-b0f9-9040856b6755"
      },
      "source": [
        "my_list.index(3) #gives you the index of the first occurrence of the element"
      ],
      "execution_count": null,
      "outputs": [
        {
          "output_type": "execute_result",
          "data": {
            "text/plain": [
              "2"
            ]
          },
          "metadata": {
            "tags": []
          },
          "execution_count": 43
        }
      ]
    },
    {
      "cell_type": "code",
      "metadata": {
        "id": "SytcKGO1vxmv",
        "colab_type": "code",
        "colab": {
          "base_uri": "https://localhost:8080/",
          "height": 35
        },
        "outputId": "a7933073-ba25-4067-fb47-102f811ef436"
      },
      "source": [
        "my_list.append('hey') #adds/appends the element at the end of the list\n",
        "my_list"
      ],
      "execution_count": null,
      "outputs": [
        {
          "output_type": "execute_result",
          "data": {
            "text/plain": [
              "[1, 2, 3, 4, 5, 6, 7, 8, 9, 10, 11, 'hey']"
            ]
          },
          "metadata": {
            "tags": []
          },
          "execution_count": 45
        }
      ]
    },
    {
      "cell_type": "code",
      "metadata": {
        "id": "fIhG2MQ3v2nv",
        "colab_type": "code",
        "colab": {
          "base_uri": "https://localhost:8080/",
          "height": 35
        },
        "outputId": "db18e908-3cbf-45d6-a85e-d6231fb0108b"
      },
      "source": [
        "my_list.insert(5, 0) #inserts data a the given position\n",
        "my_list"
      ],
      "execution_count": null,
      "outputs": [
        {
          "output_type": "execute_result",
          "data": {
            "text/plain": [
              "[1, 2, 3, 4, 5, 0, 6, 7, 8, 9, 10, 11, 'hey']"
            ]
          },
          "metadata": {
            "tags": []
          },
          "execution_count": 46
        }
      ]
    },
    {
      "cell_type": "code",
      "metadata": {
        "id": "HfeEcapbwFdX",
        "colab_type": "code",
        "colab": {
          "base_uri": "https://localhost:8080/",
          "height": 35
        },
        "outputId": "88bfeceb-c99f-46eb-d367-68bc08efe82b"
      },
      "source": [
        "my_list.append(5)\n",
        "\n",
        "print(my_list.count(5),my_list)"
      ],
      "execution_count": null,
      "outputs": [
        {
          "output_type": "stream",
          "text": [
            "3 [1, 2, 3, 4, 5, 0, 6, 7, 8, 9, 10, 11, 'hey', 5, 5]\n"
          ],
          "name": "stdout"
        }
      ]
    },
    {
      "cell_type": "code",
      "metadata": {
        "id": "yB1FAY3VwOk7",
        "colab_type": "code",
        "colab": {
          "base_uri": "https://localhost:8080/",
          "height": 35
        },
        "outputId": "9002ba59-01c4-439b-8f44-605bfe4c0dc4"
      },
      "source": [
        "my_list.remove(5) #removes the first occurrence of the element \n",
        "my_list"
      ],
      "execution_count": null,
      "outputs": [
        {
          "output_type": "execute_result",
          "data": {
            "text/plain": [
              "[1, 2, 3, 4, 0, 6, 7, 8, 9, 10, 11, 'hey', 5, 5]"
            ]
          },
          "metadata": {
            "tags": []
          },
          "execution_count": 49
        }
      ]
    },
    {
      "cell_type": "code",
      "metadata": {
        "id": "D1jZonfa9DQg",
        "colab_type": "code",
        "colab": {
          "base_uri": "https://localhost:8080/",
          "height": 35
        },
        "outputId": "8925f81e-f7cd-4e87-c903-61bea18e7cde"
      },
      "source": [
        "var = my_list.pop() #removes and returns the last element from the list\n",
        "var, my_list"
      ],
      "execution_count": null,
      "outputs": [
        {
          "output_type": "execute_result",
          "data": {
            "text/plain": [
              "(5, [1, 2, 3, 4, 0, 6, 7, 8, 9, 10, 11, 'hey', 5])"
            ]
          },
          "metadata": {
            "tags": []
          },
          "execution_count": 50
        }
      ]
    },
    {
      "cell_type": "code",
      "metadata": {
        "id": "c2b3em3DxIBL",
        "colab_type": "code",
        "colab": {
          "base_uri": "https://localhost:8080/",
          "height": 35
        },
        "outputId": "89481cdb-7530-443e-d31c-9b38a1d999ad"
      },
      "source": [
        "new_list = my_list.copy() #copies the old list into a new one\n",
        "new_list"
      ],
      "execution_count": null,
      "outputs": [
        {
          "output_type": "execute_result",
          "data": {
            "text/plain": [
              "[1, 2, 3, 4, 0, 6, 7, 8, 9, 10, 11, 'hey', 5]"
            ]
          },
          "metadata": {
            "tags": []
          },
          "execution_count": 51
        }
      ]
    },
    {
      "cell_type": "code",
      "metadata": {
        "id": "2QpJMSXJ8wXj",
        "colab_type": "code",
        "colab": {
          "base_uri": "https://localhost:8080/",
          "height": 35
        },
        "outputId": "0742b49c-3678-4482-dc08-cfa603b76670"
      },
      "source": [
        "list1 = [1, 2, 3]\n",
        "list2 = [4, 5, 6]\n",
        "# list1.extend(list2)\n",
        "list1 += list2\n",
        "list1"
      ],
      "execution_count": null,
      "outputs": [
        {
          "output_type": "execute_result",
          "data": {
            "text/plain": [
              "[1, 2, 3, 4, 5, 6]"
            ]
          },
          "metadata": {
            "tags": []
          },
          "execution_count": 53
        }
      ]
    },
    {
      "cell_type": "code",
      "metadata": {
        "id": "0iv6U32s89aq",
        "colab_type": "code",
        "colab": {
          "base_uri": "https://localhost:8080/",
          "height": 35
        },
        "outputId": "01844dd7-4880-4d56-e419-6b5c32c2bc01"
      },
      "source": [
        "my_list = [8, 1, 5, 7, 2, 0]\n",
        "# my_list.sort()                  #sort the list in ascending manner\n",
        "my_list.sort(reverse = True)  #sort the list in descending manner\n",
        "my_list"
      ],
      "execution_count": null,
      "outputs": [
        {
          "output_type": "execute_result",
          "data": {
            "text/plain": [
              "[8, 7, 5, 2, 1, 0]"
            ]
          },
          "metadata": {
            "tags": []
          },
          "execution_count": 55
        }
      ]
    },
    {
      "cell_type": "code",
      "metadata": {
        "id": "c6DvKn679fWa",
        "colab_type": "code",
        "colab": {
          "base_uri": "https://localhost:8080/",
          "height": 35
        },
        "outputId": "d5bd3bad-23e1-411c-f92d-81f8bb15c3ec"
      },
      "source": [
        "li = [5,2,6,4,7,56,21]\n",
        "sorted(li), li       #returns a sorted list and does'nt affects the original list"
      ],
      "execution_count": null,
      "outputs": [
        {
          "output_type": "execute_result",
          "data": {
            "text/plain": [
              "([2, 4, 5, 6, 7, 21, 56], [5, 2, 6, 4, 7, 56, 21])"
            ]
          },
          "metadata": {
            "tags": []
          },
          "execution_count": 53
        }
      ]
    },
    {
      "cell_type": "code",
      "metadata": {
        "id": "UCfq6fMh994T",
        "colab_type": "code",
        "colab": {
          "base_uri": "https://localhost:8080/",
          "height": 35
        },
        "outputId": "ac71c093-0f24-4dda-9eac-97f5dcc43a2c"
      },
      "source": [
        "my_list = [1, 2, 3, 4, 5]\n",
        "my_list.reverse()  #reverse the sequence of elements in the list\n",
        "my_list"
      ],
      "execution_count": null,
      "outputs": [
        {
          "output_type": "execute_result",
          "data": {
            "text/plain": [
              "[5, 4, 3, 2, 1]"
            ]
          },
          "metadata": {
            "tags": []
          },
          "execution_count": 58
        }
      ]
    },
    {
      "cell_type": "code",
      "metadata": {
        "id": "xWLga0dS--TK",
        "colab_type": "code",
        "colab": {
          "base_uri": "https://localhost:8080/",
          "height": 35
        },
        "outputId": "48562288-98e6-434c-f135-b3dbc797ce44"
      },
      "source": [
        "my_list.clear() #removes all the elements from the list\n",
        "my_list"
      ],
      "execution_count": null,
      "outputs": [
        {
          "output_type": "execute_result",
          "data": {
            "text/plain": [
              "[]"
            ]
          },
          "metadata": {
            "tags": []
          },
          "execution_count": 59
        }
      ]
    },
    {
      "cell_type": "code",
      "metadata": {
        "id": "7AkmHolY_cyG",
        "colab_type": "code",
        "colab": {}
      },
      "source": [
        "del my_list\n",
        "my_list"
      ],
      "execution_count": null,
      "outputs": []
    },
    {
      "cell_type": "markdown",
      "metadata": {
        "id": "5L7rOor3_4FV",
        "colab_type": "text"
      },
      "source": [
        "## 5.2 Tuples"
      ]
    },
    {
      "cell_type": "markdown",
      "metadata": {
        "id": "0AL6wt18_6Xa",
        "colab_type": "text"
      },
      "source": [
        "### 5.2.1 Creating Tuples and accessing elements"
      ]
    },
    {
      "cell_type": "markdown",
      "metadata": {
        "id": "055r4GjkbZTu",
        "colab_type": "text"
      },
      "source": [
        "Tuples are also an ordered collection of any types but are immutable i.e. once formed, they can't be edited"
      ]
    },
    {
      "cell_type": "code",
      "metadata": {
        "id": "RFElV1lZbntW",
        "colab_type": "code",
        "colab": {
          "base_uri": "https://localhost:8080/",
          "height": 35
        },
        "outputId": "49119b05-d316-4081-a904-a15a4c38c267"
      },
      "source": [
        "tup = (1, 2, 3, 'hello', ['list in tuple']) #ceate a tuple manually\n",
        "tup"
      ],
      "execution_count": null,
      "outputs": [
        {
          "output_type": "execute_result",
          "data": {
            "text/plain": [
              "(1, 2, 3, 'hello', ['list in tuple'])"
            ]
          },
          "metadata": {
            "tags": []
          },
          "execution_count": 57
        }
      ]
    },
    {
      "cell_type": "code",
      "metadata": {
        "id": "FOLPr5QQb0gA",
        "colab_type": "code",
        "colab": {
          "base_uri": "https://localhost:8080/",
          "height": 35
        },
        "outputId": "b732ba04-2812-46dd-d7c1-84177b4c9e6d"
      },
      "source": [
        "my_list = [1, 2, 3, 'string'] #create a tuple from a list\n",
        "tup = tuple(my_list)\n",
        "tup"
      ],
      "execution_count": null,
      "outputs": [
        {
          "output_type": "execute_result",
          "data": {
            "text/plain": [
              "(1, 2, 3, 'string')"
            ]
          },
          "metadata": {
            "tags": []
          },
          "execution_count": 58
        }
      ]
    },
    {
      "cell_type": "code",
      "metadata": {
        "id": "hkat7zK1cDbg",
        "colab_type": "code",
        "colab": {
          "base_uri": "https://localhost:8080/",
          "height": 35
        },
        "outputId": "d93721e1-6064-473d-8175-715f9bcac9c0"
      },
      "source": [
        "tup[1]"
      ],
      "execution_count": null,
      "outputs": [
        {
          "output_type": "execute_result",
          "data": {
            "text/plain": [
              "2"
            ]
          },
          "metadata": {
            "tags": []
          },
          "execution_count": 59
        }
      ]
    },
    {
      "cell_type": "code",
      "metadata": {
        "id": "X3LL5SsRcZv8",
        "colab_type": "code",
        "colab": {}
      },
      "source": [
        "tup[0] = 2"
      ],
      "execution_count": null,
      "outputs": []
    },
    {
      "cell_type": "markdown",
      "metadata": {
        "id": "3VHPyenjcixW",
        "colab_type": "text"
      },
      "source": [
        "### 5.2.2 Slicing Tuples"
      ]
    },
    {
      "cell_type": "markdown",
      "metadata": {
        "id": "ICveW-ClcmyH",
        "colab_type": "text"
      },
      "source": [
        "Same as slicing a list"
      ]
    },
    {
      "cell_type": "code",
      "metadata": {
        "id": "luV0lMTDcl6x",
        "colab_type": "code",
        "colab": {
          "base_uri": "https://localhost:8080/",
          "height": 35
        },
        "outputId": "918a961f-033a-4e4e-861e-3a2f8bcb6ba6"
      },
      "source": [
        "tup = (1, 2, 3, 'hey', ['inside list'])\n",
        "tup[1:3], type(tup)"
      ],
      "execution_count": null,
      "outputs": [
        {
          "output_type": "execute_result",
          "data": {
            "text/plain": [
              "((2, 3), tuple)"
            ]
          },
          "metadata": {
            "tags": []
          },
          "execution_count": 99
        }
      ]
    },
    {
      "cell_type": "code",
      "metadata": {
        "id": "_09mM0i-c1_a",
        "colab_type": "code",
        "colab": {
          "base_uri": "https://localhost:8080/",
          "height": 35
        },
        "outputId": "0adf5b5f-69be-43e6-8742-155ab06f7a13"
      },
      "source": [
        "tup[::-1]"
      ],
      "execution_count": null,
      "outputs": [
        {
          "output_type": "execute_result",
          "data": {
            "text/plain": [
              "(['list'], 'hey', 3, 2, 1)"
            ]
          },
          "metadata": {
            "tags": []
          },
          "execution_count": 100
        }
      ]
    },
    {
      "cell_type": "code",
      "metadata": {
        "id": "8noRK-11dBhU",
        "colab_type": "code",
        "colab": {
          "base_uri": "https://localhost:8080/",
          "height": 35
        },
        "outputId": "d219c981-908f-4c87-bec4-5d484c0dbaf8"
      },
      "source": [
        "tup[-1:-3:-1]"
      ],
      "execution_count": null,
      "outputs": [
        {
          "output_type": "execute_result",
          "data": {
            "text/plain": [
              "(['list'], 'hey')"
            ]
          },
          "metadata": {
            "tags": []
          },
          "execution_count": 102
        }
      ]
    },
    {
      "cell_type": "markdown",
      "metadata": {
        "id": "-rdSsmE3dtf6",
        "colab_type": "text"
      },
      "source": [
        "### Tuple Methods"
      ]
    },
    {
      "cell_type": "code",
      "metadata": {
        "id": "eG0ZiLt0dv57",
        "colab_type": "code",
        "colab": {
          "base_uri": "https://localhost:8080/",
          "height": 35
        },
        "outputId": "4d2e27eb-4c5e-470a-ca8b-1b6871150244"
      },
      "source": [
        "tup = (1, 2, 3, 'string', 'a', [4, 5], 2)\n",
        "tup.count(2)"
      ],
      "execution_count": null,
      "outputs": [
        {
          "output_type": "execute_result",
          "data": {
            "text/plain": [
              "2"
            ]
          },
          "metadata": {
            "tags": []
          },
          "execution_count": 119
        }
      ]
    },
    {
      "cell_type": "code",
      "metadata": {
        "id": "0SBKPWd_eE7p",
        "colab_type": "code",
        "colab": {
          "base_uri": "https://localhost:8080/",
          "height": 35
        },
        "outputId": "ba075d13-7073-4a35-fb48-84fa93db6474"
      },
      "source": [
        "tup.index('string')"
      ],
      "execution_count": null,
      "outputs": [
        {
          "output_type": "execute_result",
          "data": {
            "text/plain": [
              "3"
            ]
          },
          "metadata": {
            "tags": []
          },
          "execution_count": 104
        }
      ]
    },
    {
      "cell_type": "code",
      "metadata": {
        "id": "2ovcenkOfNBK",
        "colab_type": "code",
        "colab": {
          "base_uri": "https://localhost:8080/",
          "height": 35
        },
        "outputId": "3b90cb12-76f7-461d-e6ff-69db1ceff10f"
      },
      "source": [
        "tup = tup+(1,2,3)  #create a new tuple by joining 2 existing tuples\n",
        "tup"
      ],
      "execution_count": null,
      "outputs": [
        {
          "output_type": "execute_result",
          "data": {
            "text/plain": [
              "(1, 2, 3, 'string', 1, 2, 3)"
            ]
          },
          "metadata": {
            "tags": []
          },
          "execution_count": 61
        }
      ]
    },
    {
      "cell_type": "code",
      "metadata": {
        "id": "_rtPN1LueKyo",
        "colab_type": "code",
        "colab": {
          "base_uri": "https://localhost:8080/",
          "height": 35
        },
        "outputId": "6afb4856-4604-4f86-cca8-defb2caf80a8"
      },
      "source": [
        "# create a new tuple from a list after using list methods\n",
        "my_list = list(tup)\n",
        "my_list.insert(2,'new object')\n",
        "new_tup = tuple(my_list)\n",
        "new_tup"
      ],
      "execution_count": null,
      "outputs": [
        {
          "output_type": "execute_result",
          "data": {
            "text/plain": [
              "(1, 2, 3, 'string', 'a', [4, 5], 2, 'new object')"
            ]
          },
          "metadata": {
            "tags": []
          },
          "execution_count": 108
        }
      ]
    },
    {
      "cell_type": "code",
      "metadata": {
        "id": "qHifxJUSgCoP",
        "colab_type": "code",
        "colab": {
          "base_uri": "https://localhost:8080/",
          "height": 35
        },
        "outputId": "ff66a096-4a89-41cd-8370-b415970f7443"
      },
      "source": [
        "len(tup)"
      ],
      "execution_count": null,
      "outputs": [
        {
          "output_type": "execute_result",
          "data": {
            "text/plain": [
              "7"
            ]
          },
          "metadata": {
            "tags": []
          },
          "execution_count": 113
        }
      ]
    },
    {
      "cell_type": "code",
      "metadata": {
        "id": "SaNNexCCgFgS",
        "colab_type": "code",
        "colab": {
          "base_uri": "https://localhost:8080/",
          "height": 35
        },
        "outputId": "56cb5d22-5f87-485b-bb3a-ac74632049e8"
      },
      "source": [
        "tup = (1, 2, 3, 4, 0)\n",
        "min(tup), max(tup)"
      ],
      "execution_count": null,
      "outputs": [
        {
          "output_type": "execute_result",
          "data": {
            "text/plain": [
              "(0, 4)"
            ]
          },
          "metadata": {
            "tags": []
          },
          "execution_count": 121
        }
      ]
    },
    {
      "cell_type": "code",
      "metadata": {
        "id": "dzBBx5YGhJlf",
        "colab_type": "code",
        "colab": {
          "base_uri": "https://localhost:8080/",
          "height": 35
        },
        "outputId": "abee63f5-1ad8-419f-9a46-9145723266b1"
      },
      "source": [
        "sorted(tup)"
      ],
      "execution_count": null,
      "outputs": [
        {
          "output_type": "execute_result",
          "data": {
            "text/plain": [
              "[0, 1, 2, 3, 4]"
            ]
          },
          "metadata": {
            "tags": []
          },
          "execution_count": 122
        }
      ]
    },
    {
      "cell_type": "markdown",
      "metadata": {
        "id": "qlhYIR0z_99N",
        "colab_type": "text"
      },
      "source": [
        "## 5.3 Dictionaries"
      ]
    },
    {
      "cell_type": "markdown",
      "metadata": {
        "id": "hHy61Q9jhcXp",
        "colab_type": "text"
      },
      "source": [
        "### 5.3.1 Creating Dictionaries and accessing elements"
      ]
    },
    {
      "cell_type": "markdown",
      "metadata": {
        "id": "g4F9_wDihiEN",
        "colab_type": "text"
      },
      "source": [
        "Dictionaries are unordered collections of items(values) mapped with a key. The key should be unique and should be immutable(string, tuple, constants)"
      ]
    },
    {
      "cell_type": "code",
      "metadata": {
        "id": "hS5Vl-NRhbjP",
        "colab_type": "code",
        "colab": {
          "base_uri": "https://localhost:8080/",
          "height": 72
        },
        "outputId": "9a05cea2-d4fb-48f7-9137-31b8b8baa422"
      },
      "source": [
        "d = {'cat': 'cute', 'dog': 'furry'}  # Create a new dictionary with some data {key:value}\n",
        "print(d['cat'])       # Get an entry from a dictionary; prints \"cute\"\n",
        "print('cat' in d)     # Check if a dictionary has a given key; prints \"True\"\n",
        "print(type(d))"
      ],
      "execution_count": null,
      "outputs": [
        {
          "output_type": "stream",
          "text": [
            "cute\n",
            "True\n",
            "<class 'dict'>\n"
          ],
          "name": "stdout"
        }
      ]
    },
    {
      "cell_type": "code",
      "metadata": {
        "id": "KIjnfTPyAHLU",
        "colab_type": "code",
        "colab": {
          "base_uri": "https://localhost:8080/",
          "height": 35
        },
        "outputId": "cdacbe9f-7a44-470f-95f0-ed18874fc621"
      },
      "source": [
        "d['fish'] = 'wet'    # Set an entry in a dictionary\n",
        "print(d['fish'])      # Prints \"wet\""
      ],
      "execution_count": null,
      "outputs": [
        {
          "output_type": "stream",
          "text": [
            "wet\n"
          ],
          "name": "stdout"
        }
      ]
    },
    {
      "cell_type": "code",
      "metadata": {
        "id": "yq0rflXRqsTJ",
        "colab_type": "code",
        "colab": {}
      },
      "source": [
        "print(d['monkey'])  # KeyError: 'monkey' not a key of d"
      ],
      "execution_count": null,
      "outputs": []
    },
    {
      "cell_type": "code",
      "metadata": {
        "id": "5ymp-FvjtVCP",
        "colab_type": "code",
        "colab": {
          "base_uri": "https://localhost:8080/",
          "height": 53
        },
        "outputId": "31eb01ce-ecd7-4a89-a973-78a803af0f40"
      },
      "source": [
        "d = dict([(1, 'one'), (2, 'two')]) #create a dictionary from tuples\n",
        "print(d)\n",
        "print(type(d))"
      ],
      "execution_count": null,
      "outputs": [
        {
          "output_type": "stream",
          "text": [
            "{1: 'one', 2: 'two'}\n",
            "<class 'dict'>\n"
          ],
          "name": "stdout"
        }
      ]
    },
    {
      "cell_type": "markdown",
      "metadata": {
        "id": "USQ6ebiMq41z",
        "colab_type": "text"
      },
      "source": [
        "### 5.3.2 Dictionary methods"
      ]
    },
    {
      "cell_type": "code",
      "metadata": {
        "id": "En0gWHErq9MT",
        "colab_type": "code",
        "colab": {
          "base_uri": "https://localhost:8080/",
          "height": 36
        },
        "outputId": "9fc5103d-3037-4d26-a21a-c1eb23e19eb0"
      },
      "source": [
        "d = {1:'one', 2:'two', 3:'three', 4:'four', 5:'five', 6:'six'}\n",
        "d.get(1)\t#Returns the value of the specified key"
      ],
      "execution_count": null,
      "outputs": [
        {
          "output_type": "execute_result",
          "data": {
            "application/vnd.google.colaboratory.intrinsic+json": {
              "type": "string"
            },
            "text/plain": [
              "'one'"
            ]
          },
          "metadata": {
            "tags": []
          },
          "execution_count": 133
        }
      ]
    },
    {
      "cell_type": "code",
      "metadata": {
        "id": "77ioZjbErplp",
        "colab_type": "code",
        "colab": {
          "base_uri": "https://localhost:8080/",
          "height": 35
        },
        "outputId": "949c443f-b952-4765-bdc1-427a8d3e8cbd"
      },
      "source": [
        "d.items()\t#Returns a list containing a tuple for each key value pair"
      ],
      "execution_count": null,
      "outputs": [
        {
          "output_type": "execute_result",
          "data": {
            "text/plain": [
              "dict_items([(1, 'one'), (2, 'two'), (3, 'three'), (4, 'four'), (5, 'five'), (6, 'six')])"
            ]
          },
          "metadata": {
            "tags": []
          },
          "execution_count": 129
        }
      ]
    },
    {
      "cell_type": "code",
      "metadata": {
        "id": "Pm_fuUUbrvZ-",
        "colab_type": "code",
        "colab": {
          "base_uri": "https://localhost:8080/",
          "height": 35
        },
        "outputId": "21903928-a2f7-4872-a77e-1bf93c8bf684"
      },
      "source": [
        "d.keys()\t#Returns a list containing the dictionary's keys"
      ],
      "execution_count": null,
      "outputs": [
        {
          "output_type": "execute_result",
          "data": {
            "text/plain": [
              "dict_keys([1, 2, 3, 4, 5, 6])"
            ]
          },
          "metadata": {
            "tags": []
          },
          "execution_count": 130
        }
      ]
    },
    {
      "cell_type": "code",
      "metadata": {
        "id": "DTqGC7vmrz7t",
        "colab_type": "code",
        "colab": {
          "base_uri": "https://localhost:8080/",
          "height": 35
        },
        "outputId": "03ef6dce-342d-4276-d6b7-14265024ac15"
      },
      "source": [
        "d.values()\t#Returns a list of all the values in the dictionary"
      ],
      "execution_count": null,
      "outputs": [
        {
          "output_type": "execute_result",
          "data": {
            "text/plain": [
              "dict_values(['one', 'two', 'three', 'four', 'five', 'six'])"
            ]
          },
          "metadata": {
            "tags": []
          },
          "execution_count": 131
        }
      ]
    },
    {
      "cell_type": "code",
      "metadata": {
        "id": "jhlFGR0psB9M",
        "colab_type": "code",
        "colab": {
          "base_uri": "https://localhost:8080/",
          "height": 35
        },
        "outputId": "f4c4f9b5-084f-4d9d-fa31-e613e2a2712c"
      },
      "source": [
        "d.update({7:'seven'})\t#Updates the dictionary with the specified key-value pairs\n",
        "d"
      ],
      "execution_count": null,
      "outputs": [
        {
          "output_type": "execute_result",
          "data": {
            "text/plain": [
              "{1: 'one', 2: 'two', 3: 'three', 4: 'four', 5: 'five', 6: 'six', 7: 'seven'}"
            ]
          },
          "metadata": {
            "tags": []
          },
          "execution_count": 134
        }
      ]
    },
    {
      "cell_type": "code",
      "metadata": {
        "id": "QUUQaUh0s3aX",
        "colab_type": "code",
        "colab": {
          "base_uri": "https://localhost:8080/",
          "height": 35
        },
        "outputId": "78cbd427-b09b-431a-ac48-32bb0945cd73"
      },
      "source": [
        "d.pop(7)\t#Removes the element with the specified key\n",
        "d"
      ],
      "execution_count": null,
      "outputs": [
        {
          "output_type": "execute_result",
          "data": {
            "text/plain": [
              "{1: 'one', 2: 'two', 3: 'three', 4: 'four', 5: 'five', 6: 'six'}"
            ]
          },
          "metadata": {
            "tags": []
          },
          "execution_count": 135
        }
      ]
    },
    {
      "cell_type": "code",
      "metadata": {
        "id": "kH1rD0gutBiE",
        "colab_type": "code",
        "colab": {
          "base_uri": "https://localhost:8080/",
          "height": 35
        },
        "outputId": "fd4a5004-1bb0-49b8-c706-4512bc29b656"
      },
      "source": [
        "d.popitem() #Removes the last inserted key-value pair\n",
        "d"
      ],
      "execution_count": null,
      "outputs": [
        {
          "output_type": "execute_result",
          "data": {
            "text/plain": [
              "{1: 'one', 2: 'two', 3: 'three', 4: 'four', 5: 'five'}"
            ]
          },
          "metadata": {
            "tags": []
          },
          "execution_count": 136
        }
      ]
    },
    {
      "cell_type": "markdown",
      "metadata": {
        "id": "8_vfARVjAAs8",
        "colab_type": "text"
      },
      "source": [
        "## 5.4 Sets"
      ]
    },
    {
      "cell_type": "markdown",
      "metadata": {
        "id": "y6LObvbCuLwk",
        "colab_type": "text"
      },
      "source": [
        "### 5.4.1 Creating Sets"
      ]
    },
    {
      "cell_type": "markdown",
      "metadata": {
        "id": "IXUM3MtTtuZZ",
        "colab_type": "text"
      },
      "source": [
        "A set is an unordered collection which is unindexed and contains unique values"
      ]
    },
    {
      "cell_type": "code",
      "metadata": {
        "id": "oQiTxpbkACZY",
        "colab_type": "code",
        "colab": {
          "base_uri": "https://localhost:8080/",
          "height": 54
        },
        "outputId": "7590c895-6847-49ab-edd7-8529aee85a96"
      },
      "source": [
        "set1 = {'cat', 'dog'}\n",
        "print('cat' in set1)   # Check if an element is in a set; prints \"True\"\n",
        "print('fish' in set1)  # prints \"False\""
      ],
      "execution_count": null,
      "outputs": [
        {
          "output_type": "stream",
          "text": [
            "True\n",
            "False\n"
          ],
          "name": "stdout"
        }
      ]
    },
    {
      "cell_type": "markdown",
      "metadata": {
        "id": "q5Bz0mxiuriB",
        "colab_type": "text"
      },
      "source": [
        "### 5.4.2 Set Methods"
      ]
    },
    {
      "cell_type": "code",
      "metadata": {
        "id": "irq5oDa0uu4k",
        "colab_type": "code",
        "colab": {
          "base_uri": "https://localhost:8080/",
          "height": 35
        },
        "outputId": "02d83337-8ab3-4af5-f35c-d566a7da9151"
      },
      "source": [
        "set1.add('fish')\t#Adds an element to the set\n",
        "set1"
      ],
      "execution_count": null,
      "outputs": [
        {
          "output_type": "execute_result",
          "data": {
            "text/plain": [
              "{'cat', 'dog', 'fish'}"
            ]
          },
          "metadata": {
            "tags": []
          },
          "execution_count": 67
        }
      ]
    },
    {
      "cell_type": "code",
      "metadata": {
        "id": "xQZ5iYxHxOh4",
        "colab_type": "code",
        "colab": {
          "base_uri": "https://localhost:8080/",
          "height": 35
        },
        "outputId": "ea732c84-6b0d-4824-d8a7-f492c3ca0e32"
      },
      "source": [
        "len(set1)"
      ],
      "execution_count": null,
      "outputs": [
        {
          "output_type": "execute_result",
          "data": {
            "text/plain": [
              "3"
            ]
          },
          "metadata": {
            "tags": []
          },
          "execution_count": 68
        }
      ]
    },
    {
      "cell_type": "code",
      "metadata": {
        "id": "hsgyZ591vINF",
        "colab_type": "code",
        "colab": {
          "base_uri": "https://localhost:8080/",
          "height": 35
        },
        "outputId": "0a32a2b3-82f4-4ac2-ff31-67dd9a36d9d2"
      },
      "source": [
        "set2 = {'lion', 'cat', 'cow'}\n",
        "set1.difference(set2)\t#Returns a set containing the difference between two or more sets"
      ],
      "execution_count": null,
      "outputs": [
        {
          "output_type": "execute_result",
          "data": {
            "text/plain": [
              "{'dog', 'fish'}"
            ]
          },
          "metadata": {
            "tags": []
          },
          "execution_count": 69
        }
      ]
    },
    {
      "cell_type": "code",
      "metadata": {
        "id": "jUtImzRBvgSE",
        "colab_type": "code",
        "colab": {
          "base_uri": "https://localhost:8080/",
          "height": 35
        },
        "outputId": "5bb974fc-61f9-4a18-cf5f-adb238b9f5ab"
      },
      "source": [
        "set1.intersection(set2)\t#Returns a set, that is the intersection of two other sets"
      ],
      "execution_count": null,
      "outputs": [
        {
          "output_type": "execute_result",
          "data": {
            "text/plain": [
              "{'cat'}"
            ]
          },
          "metadata": {
            "tags": []
          },
          "execution_count": 70
        }
      ]
    },
    {
      "cell_type": "code",
      "metadata": {
        "id": "0HSKsz9ewRFJ",
        "colab_type": "code",
        "colab": {
          "base_uri": "https://localhost:8080/",
          "height": 35
        },
        "outputId": "1fdc0077-dae7-4aa5-ef2d-716592470da2"
      },
      "source": [
        "set1.symmetric_difference(set2)\t#Returns a set with the symmetric differences of two sets"
      ],
      "execution_count": null,
      "outputs": [
        {
          "output_type": "execute_result",
          "data": {
            "text/plain": [
              "{'cow', 'dog', 'fish', 'lion'}"
            ]
          },
          "metadata": {
            "tags": []
          },
          "execution_count": 71
        }
      ]
    },
    {
      "cell_type": "code",
      "metadata": {
        "id": "9NQ5ga8nwX1p",
        "colab_type": "code",
        "colab": {
          "base_uri": "https://localhost:8080/",
          "height": 35
        },
        "outputId": "96519eec-1355-4d3b-db1c-0ccc49f733ca"
      },
      "source": [
        "set1.union(set2)\t#Return a set containing the union of sets"
      ],
      "execution_count": null,
      "outputs": [
        {
          "output_type": "execute_result",
          "data": {
            "text/plain": [
              "{'cat', 'cow', 'dog', 'fish', 'lion'}"
            ]
          },
          "metadata": {
            "tags": []
          },
          "execution_count": 147
        }
      ]
    },
    {
      "cell_type": "code",
      "metadata": {
        "id": "7PEFMfhZwhhp",
        "colab_type": "code",
        "colab": {
          "base_uri": "https://localhost:8080/",
          "height": 35
        },
        "outputId": "39b0108e-22f1-4f1f-c397-e1eb7389616f"
      },
      "source": [
        "set1.update(set2)\t#Update the set with the union of this set and others\n",
        "set1"
      ],
      "execution_count": null,
      "outputs": [
        {
          "output_type": "execute_result",
          "data": {
            "text/plain": [
              "{'cat', 'cow', 'dog', 'fish', 'lion'}"
            ]
          },
          "metadata": {
            "tags": []
          },
          "execution_count": 155
        }
      ]
    },
    {
      "cell_type": "code",
      "metadata": {
        "id": "kFlnhaQMwvHV",
        "colab_type": "code",
        "colab": {
          "base_uri": "https://localhost:8080/",
          "height": 35
        },
        "outputId": "fc42c7c9-ffb5-4eaf-88b2-0f3005350075"
      },
      "source": [
        "set1.remove('lion') #Removes the specified element\n",
        "set1"
      ],
      "execution_count": null,
      "outputs": [
        {
          "output_type": "execute_result",
          "data": {
            "text/plain": [
              "{'cat', 'cow', 'dog', 'fish'}"
            ]
          },
          "metadata": {
            "tags": []
          },
          "execution_count": 156
        }
      ]
    },
    {
      "cell_type": "code",
      "metadata": {
        "id": "JFGHJZKbwqd5",
        "colab_type": "code",
        "colab": {
          "base_uri": "https://localhost:8080/",
          "height": 35
        },
        "outputId": "d16deea9-ec0e-48de-e0f7-ed3568e125d7"
      },
      "source": [
        "set1.pop()\t#Removes an element from the set\n",
        "set1"
      ],
      "execution_count": null,
      "outputs": [
        {
          "output_type": "execute_result",
          "data": {
            "text/plain": [
              "{'cat', 'cow', 'fish'}"
            ]
          },
          "metadata": {
            "tags": []
          },
          "execution_count": 157
        }
      ]
    },
    {
      "cell_type": "code",
      "metadata": {
        "id": "yl-59NzqxGsW",
        "colab_type": "code",
        "colab": {
          "base_uri": "https://localhost:8080/",
          "height": 35
        },
        "outputId": "1455f0c4-5ca4-4bbe-869a-9ed553151df9"
      },
      "source": [
        "set1.clear()\t#Removes all the elements from the set\n",
        "set1"
      ],
      "execution_count": null,
      "outputs": [
        {
          "output_type": "execute_result",
          "data": {
            "text/plain": [
              "set()"
            ]
          },
          "metadata": {
            "tags": []
          },
          "execution_count": 158
        }
      ]
    },
    {
      "cell_type": "code",
      "metadata": {
        "id": "RCey6uE9xJzE",
        "colab_type": "code",
        "colab": {}
      },
      "source": [
        ""
      ],
      "execution_count": null,
      "outputs": []
    },
    {
      "cell_type": "markdown",
      "metadata": {
        "id": "0baNSpVtzH54",
        "colab_type": "text"
      },
      "source": [
        "# 6 Looping Structure & Comprehensions"
      ]
    },
    {
      "cell_type": "markdown",
      "metadata": {
        "id": "eyVNTN7_2Te0",
        "colab_type": "text"
      },
      "source": [
        "## 6.1 Loops"
      ]
    },
    {
      "cell_type": "markdown",
      "metadata": {
        "id": "LVPztRDHzNGg",
        "colab_type": "text"
      },
      "source": [
        "You can loop over the elements of a list like this:"
      ]
    },
    {
      "cell_type": "code",
      "metadata": {
        "id": "GQvpSbtgzlwU",
        "colab_type": "code",
        "colab": {
          "base_uri": "https://localhost:8080/",
          "height": 72
        },
        "outputId": "abd7685f-7d46-4322-8745-47c0b7398cf8"
      },
      "source": [
        "animals_list = ['cat', 'dog', 'monkey']\n",
        "for i in animals_list:\n",
        "    print(i)"
      ],
      "execution_count": null,
      "outputs": [
        {
          "output_type": "stream",
          "text": [
            "cat\n",
            "dog\n",
            "monkey\n"
          ],
          "name": "stdout"
        }
      ]
    },
    {
      "cell_type": "markdown",
      "metadata": {
        "id": "NVchZt4T2vIu",
        "colab_type": "text"
      },
      "source": [
        "Looping over tuples is the same:"
      ]
    },
    {
      "cell_type": "code",
      "metadata": {
        "id": "afxGVj5m2zB8",
        "colab_type": "code",
        "colab": {
          "base_uri": "https://localhost:8080/",
          "height": 90
        },
        "outputId": "fd047e89-8a86-4139-9ffd-943529bf5e91"
      },
      "source": [
        "tup = ('dog', 'fish', 'cow', 'lion')\n",
        "for animal in tup:\n",
        "  print(animal) "
      ],
      "execution_count": null,
      "outputs": [
        {
          "output_type": "stream",
          "text": [
            "dog\n",
            "fish\n",
            "cow\n",
            "lion\n"
          ],
          "name": "stdout"
        }
      ]
    },
    {
      "cell_type": "markdown",
      "metadata": {
        "id": "WA7RVOh_3BHg",
        "colab_type": "text"
      },
      "source": [
        "Looping over dictionary:"
      ]
    },
    {
      "cell_type": "code",
      "metadata": {
        "id": "uOAd7tF13D4s",
        "colab_type": "code",
        "colab": {
          "base_uri": "https://localhost:8080/",
          "height": 72
        },
        "outputId": "e2655479-4611-4412-bf5c-f88f1d9ea378"
      },
      "source": [
        "d = {'person': 2, 'cat': 4, 'spider': 8}\n",
        "for animal, legs in d.items():\n",
        "    print('A {} has {} legs'.format(animal, legs))"
      ],
      "execution_count": null,
      "outputs": [
        {
          "output_type": "stream",
          "text": [
            "A person has 2 legs\n",
            "A cat has 4 legs\n",
            "A spider has 8 legs\n"
          ],
          "name": "stdout"
        }
      ]
    },
    {
      "cell_type": "code",
      "metadata": {
        "id": "H4pzaM-D3ZM1",
        "colab_type": "code",
        "colab": {
          "base_uri": "https://localhost:8080/",
          "height": 72
        },
        "outputId": "f059f676-acae-4295-f03b-aea0dea9c6b6"
      },
      "source": [
        "for key in d.keys():\n",
        "  print(key)"
      ],
      "execution_count": null,
      "outputs": [
        {
          "output_type": "stream",
          "text": [
            "person\n",
            "cat\n",
            "spider\n"
          ],
          "name": "stdout"
        }
      ]
    },
    {
      "cell_type": "code",
      "metadata": {
        "id": "DphSHlxV3fk5",
        "colab_type": "code",
        "colab": {
          "base_uri": "https://localhost:8080/",
          "height": 72
        },
        "outputId": "0e5a2320-5fb4-42b2-8737-61a2675964eb"
      },
      "source": [
        "for val in d.values():\n",
        "  print(val)"
      ],
      "execution_count": null,
      "outputs": [
        {
          "output_type": "stream",
          "text": [
            "2\n",
            "4\n",
            "8\n"
          ],
          "name": "stdout"
        }
      ]
    },
    {
      "cell_type": "markdown",
      "metadata": {
        "id": "spyAkuekzv2d",
        "colab_type": "text"
      },
      "source": [
        "If you want access to the index of each element within the body of a loop, use the built-in enumerate function:"
      ]
    },
    {
      "cell_type": "code",
      "metadata": {
        "id": "EoiqGW1lzxbl",
        "colab_type": "code",
        "colab": {
          "base_uri": "https://localhost:8080/",
          "height": 72
        },
        "outputId": "5d60b4c7-3f79-495f-d5c4-8051e528ff01"
      },
      "source": [
        "animals = ['cat', 'dog', 'monkey']\n",
        "for ind, animal in enumerate(animals):\n",
        "    print('{}: {}'.format(ind + 1, animal))"
      ],
      "execution_count": null,
      "outputs": [
        {
          "output_type": "stream",
          "text": [
            "1: cat\n",
            "2: dog\n",
            "3: monkey\n"
          ],
          "name": "stdout"
        }
      ]
    },
    {
      "cell_type": "markdown",
      "metadata": {
        "id": "D-z7mAGb0a2B",
        "colab_type": "text"
      },
      "source": [
        "To run a loop over a range of numbers, use range():"
      ]
    },
    {
      "cell_type": "code",
      "metadata": {
        "id": "sjdsFpiT0oVG",
        "colab_type": "code",
        "colab": {
          "base_uri": "https://localhost:8080/",
          "height": 35
        },
        "outputId": "67384c52-a674-42a4-9fa0-ac379b896844"
      },
      "source": [
        "for i in range(10): #range gives numbers from 0 to 9\n",
        "  print(i, end=' ')"
      ],
      "execution_count": null,
      "outputs": [
        {
          "output_type": "stream",
          "text": [
            "0 1 2 3 4 5 6 7 8 9 "
          ],
          "name": "stdout"
        }
      ]
    },
    {
      "cell_type": "code",
      "metadata": {
        "id": "kCu77tkt06g8",
        "colab_type": "code",
        "colab": {
          "base_uri": "https://localhost:8080/",
          "height": 35
        },
        "outputId": "0450fe87-d43d-437a-97de-687ab1c2ce6e"
      },
      "source": [
        "for i in range(2,16): #range gives number from 2 to 15\n",
        "  print(i, end=' ')"
      ],
      "execution_count": null,
      "outputs": [
        {
          "output_type": "stream",
          "text": [
            "2 3 4 5 6 7 8 9 10 11 12 13 14 15 "
          ],
          "name": "stdout"
        }
      ]
    },
    {
      "cell_type": "code",
      "metadata": {
        "id": "XoPREVSv0ubq",
        "colab_type": "code",
        "colab": {
          "base_uri": "https://localhost:8080/",
          "height": 35
        },
        "outputId": "31c01a6c-8617-43de-b238-e6bc1cc4f6d1"
      },
      "source": [
        "for i in range(0,10,2): #range gives even numbers till 9 as step=2\n",
        "  print(i, end=' ')"
      ],
      "execution_count": null,
      "outputs": [
        {
          "output_type": "stream",
          "text": [
            "0 2 4 6 8 "
          ],
          "name": "stdout"
        }
      ]
    },
    {
      "cell_type": "markdown",
      "metadata": {
        "id": "SwQ72Y6y2b14",
        "colab_type": "text"
      },
      "source": [
        "while loops can be used as:"
      ]
    },
    {
      "cell_type": "code",
      "metadata": {
        "id": "LsxSumwL1WOA",
        "colab_type": "code",
        "colab": {
          "base_uri": "https://localhost:8080/",
          "height": 35
        },
        "outputId": "5e8d0ede-4266-481d-84d2-75738deb726e"
      },
      "source": [
        "i = 10\n",
        "while i > 0:\n",
        "  print(i, end=' ')\n",
        "  i -= 1"
      ],
      "execution_count": null,
      "outputs": [
        {
          "output_type": "stream",
          "text": [
            "10 9 8 7 6 5 4 3 2 1 "
          ],
          "name": "stdout"
        }
      ]
    },
    {
      "cell_type": "markdown",
      "metadata": {
        "id": "z9Q2CRGv3t-d",
        "colab_type": "text"
      },
      "source": [
        "## 6.2 Comprehensions"
      ]
    },
    {
      "cell_type": "markdown",
      "metadata": {
        "id": "kSvjfgal3y9N",
        "colab_type": "text"
      },
      "source": [
        "### 6.2.1 List Comprehension"
      ]
    },
    {
      "cell_type": "markdown",
      "metadata": {
        "id": "FkMSPYkn3-pg",
        "colab_type": "text"
      },
      "source": [
        "When programming, frequently we want to transform one type of data into another. As a simple example, consider the following code that computes square numbers:"
      ]
    },
    {
      "cell_type": "code",
      "metadata": {
        "id": "yAP1atzb3-It",
        "colab_type": "code",
        "colab": {
          "base_uri": "https://localhost:8080/",
          "height": 35
        },
        "outputId": "f1216642-a56d-43dc-931c-98f159f9a9bc"
      },
      "source": [
        "nums = [0, 1, 2, 3, 4]\n",
        "squares = []\n",
        "for x in nums:\n",
        "    squares.append(x ** 2)\n",
        "print(squares)"
      ],
      "execution_count": null,
      "outputs": [
        {
          "output_type": "stream",
          "text": [
            "[0, 1, 4, 9, 16]\n"
          ],
          "name": "stdout"
        }
      ]
    },
    {
      "cell_type": "markdown",
      "metadata": {
        "id": "eJWtQaqY4ES8",
        "colab_type": "text"
      },
      "source": [
        "You can make this code simpler using a list comprehension:"
      ]
    },
    {
      "cell_type": "code",
      "metadata": {
        "id": "f9JNzzF84GD0",
        "colab_type": "code",
        "colab": {
          "base_uri": "https://localhost:8080/",
          "height": 35
        },
        "outputId": "51662663-73c1-42dc-aac0-09ab72f54c7a"
      },
      "source": [
        "nums = [0, 1, 2, 3, 4]\n",
        "squares = [x ** 2 for x in nums]\n",
        "print(squares)"
      ],
      "execution_count": null,
      "outputs": [
        {
          "output_type": "stream",
          "text": [
            "[0, 1, 4, 9, 16]\n"
          ],
          "name": "stdout"
        }
      ]
    },
    {
      "cell_type": "markdown",
      "metadata": {
        "id": "binAYmw_4Lm1",
        "colab_type": "text"
      },
      "source": [
        "List comprehensions can also contain conditions:"
      ]
    },
    {
      "cell_type": "code",
      "metadata": {
        "id": "z2HH-Zr64MNW",
        "colab_type": "code",
        "colab": {
          "base_uri": "https://localhost:8080/",
          "height": 35
        },
        "outputId": "1142d9a1-547e-4bbe-8d5e-0bde072988a0"
      },
      "source": [
        "nums = [0, 1, 2, 3, 4]\n",
        "even_squares = [x ** 2 for x in nums if x % 2 == 0]\n",
        "print(even_squares)"
      ],
      "execution_count": null,
      "outputs": [
        {
          "output_type": "stream",
          "text": [
            "[0, 4, 16]\n"
          ],
          "name": "stdout"
        }
      ]
    },
    {
      "cell_type": "markdown",
      "metadata": {
        "id": "TSGlaI454StE",
        "colab_type": "text"
      },
      "source": [
        "### 6.2.2 Dictionary Comprehension"
      ]
    },
    {
      "cell_type": "markdown",
      "metadata": {
        "id": "A0yu6-tM4WSt",
        "colab_type": "text"
      },
      "source": [
        "These are similar to list comprehensions, but allow you to easily construct dictionaries. For example:"
      ]
    },
    {
      "cell_type": "code",
      "metadata": {
        "id": "s9mnUIRR4ZEs",
        "colab_type": "code",
        "colab": {
          "base_uri": "https://localhost:8080/",
          "height": 35
        },
        "outputId": "132fc1ef-f371-4ee0-f1ca-deb463d500fc"
      },
      "source": [
        "nums = [0, 1, 2, 3, 4]\n",
        "even_num_to_square = {x: x ** 2 for x in nums if x % 2 == 0}\n",
        "print(even_num_to_square)"
      ],
      "execution_count": null,
      "outputs": [
        {
          "output_type": "stream",
          "text": [
            "{0: 0, 2: 4, 4: 16}\n"
          ],
          "name": "stdout"
        }
      ]
    },
    {
      "cell_type": "markdown",
      "metadata": {
        "id": "psZKOxxm42AA",
        "colab_type": "text"
      },
      "source": [
        "### 6.2.3 Set Comprehension"
      ]
    },
    {
      "cell_type": "code",
      "metadata": {
        "id": "o9cyhWbe5C4Y",
        "colab_type": "code",
        "colab": {
          "base_uri": "https://localhost:8080/",
          "height": 35
        },
        "outputId": "a4c07403-fd13-4e43-cb70-0ba40ea73773"
      },
      "source": [
        "new_set = ({x for x in range(10)})\n",
        "print(new_set)"
      ],
      "execution_count": null,
      "outputs": [
        {
          "output_type": "stream",
          "text": [
            "{0, 1, 2, 3, 4, 5, 6, 7, 8, 9}\n"
          ],
          "name": "stdout"
        }
      ]
    },
    {
      "cell_type": "markdown",
      "metadata": {
        "id": "edEHp43n55kc",
        "colab_type": "text"
      },
      "source": [
        "# 7 Functions"
      ]
    },
    {
      "cell_type": "markdown",
      "metadata": {
        "id": "ewPNyPM37iSo",
        "colab_type": "text"
      },
      "source": [
        "## 7.1 Normal function"
      ]
    },
    {
      "cell_type": "markdown",
      "metadata": {
        "id": "-xqccwIe589-",
        "colab_type": "text"
      },
      "source": [
        "Python functions are defined using the def keyword. For example:"
      ]
    },
    {
      "cell_type": "code",
      "metadata": {
        "id": "r-dqYHsS6HYf",
        "colab_type": "code",
        "colab": {
          "base_uri": "https://localhost:8080/",
          "height": 72
        },
        "outputId": "ac637185-691d-4475-b1cc-ac0e9aa7828a"
      },
      "source": [
        "def sign(x):\n",
        "    if x > 0:\n",
        "        return 'positive'\n",
        "    elif x < 0:\n",
        "        return 'negative'\n",
        "    else:\n",
        "        return 'zero'\n",
        "\n",
        "for x in [-1, 0, 1]:\n",
        "    print(sign(x))"
      ],
      "execution_count": null,
      "outputs": [
        {
          "output_type": "stream",
          "text": [
            "negative\n",
            "zero\n",
            "positive\n"
          ],
          "name": "stdout"
        }
      ]
    },
    {
      "cell_type": "markdown",
      "metadata": {
        "id": "uSZCSdZE6LkM",
        "colab_type": "text"
      },
      "source": [
        "We will often define functions to take optional keyword arguments, like this:"
      ]
    },
    {
      "cell_type": "code",
      "metadata": {
        "id": "GQCvlmoc6Rb0",
        "colab_type": "code",
        "colab": {
          "base_uri": "https://localhost:8080/",
          "height": 53
        },
        "outputId": "b7784376-3e2c-4936-d84f-b59e27156718"
      },
      "source": [
        "def hello(name, loud=False):\n",
        "    if loud:\n",
        "        print('HELLO, {}'.format(name.upper()))\n",
        "    else:\n",
        "        print('Hello, {}!'.format(name))\n",
        "\n",
        "hello('Bob')\n",
        "hello('Fred', loud=True)"
      ],
      "execution_count": null,
      "outputs": [
        {
          "output_type": "stream",
          "text": [
            "Hello, Bob!\n",
            "HELLO, FRED\n"
          ],
          "name": "stdout"
        }
      ]
    },
    {
      "cell_type": "markdown",
      "metadata": {
        "id": "R3h3TExF7mqd",
        "colab_type": "text"
      },
      "source": [
        "## 7.2 Lambda function"
      ]
    },
    {
      "cell_type": "markdown",
      "metadata": {
        "id": "k4XomxQ16XNk",
        "colab_type": "text"
      },
      "source": [
        "Python has a utility called lambda function, which is a small anonymous function. It can take any number of arguments, but can only have one expression. Widely used for small purposes."
      ]
    },
    {
      "cell_type": "code",
      "metadata": {
        "id": "O0tPHwIs6yAG",
        "colab_type": "code",
        "colab": {
          "base_uri": "https://localhost:8080/",
          "height": 35
        },
        "outputId": "126c1c52-9c65-45aa-ff74-8b7c9a6e9f80"
      },
      "source": [
        "x = lambda a : a + 10   #lambda arguments : expression\n",
        "print(x(5))"
      ],
      "execution_count": null,
      "outputs": [
        {
          "output_type": "stream",
          "text": [
            "15\n"
          ],
          "name": "stdout"
        }
      ]
    },
    {
      "cell_type": "code",
      "metadata": {
        "id": "F7JmwOQ361xp",
        "colab_type": "code",
        "colab": {
          "base_uri": "https://localhost:8080/",
          "height": 35
        },
        "outputId": "43327445-1dd5-45fd-df2e-e6dcb3fe8154"
      },
      "source": [
        "x = lambda a, b, c : a + b + c\n",
        "print(x(5, 6, 2)) "
      ],
      "execution_count": null,
      "outputs": [
        {
          "output_type": "stream",
          "text": [
            "13\n"
          ],
          "name": "stdout"
        }
      ]
    },
    {
      "cell_type": "markdown",
      "metadata": {
        "id": "NUcxI-_O7r0G",
        "colab_type": "text"
      },
      "source": [
        "## 7.3 Map function"
      ]
    },
    {
      "cell_type": "markdown",
      "metadata": {
        "id": "V3USd9MF7N-G",
        "colab_type": "text"
      },
      "source": [
        "The map() function applies a given function to each item of an iterable (list, tuple etc.) and returns a list of the results."
      ]
    },
    {
      "cell_type": "code",
      "metadata": {
        "id": "ZxNzkvbG8HPI",
        "colab_type": "code",
        "colab": {
          "base_uri": "https://localhost:8080/",
          "height": 54
        },
        "outputId": "7b6291b1-3913-47e7-aaaa-1c341c189951"
      },
      "source": [
        "def calculateSquare(n):\n",
        "    return n*n\n",
        "\n",
        "\n",
        "numbers = (1, 2, 3, 4)\n",
        "result = map(calculateSquare, numbers)\n",
        "print(result)\n",
        "\n",
        "numbersSquare = list(result)\n",
        "print(numbersSquare)"
      ],
      "execution_count": null,
      "outputs": [
        {
          "output_type": "stream",
          "text": [
            "<map object at 0x7f3ed5a39748>\n",
            "[1, 4, 9, 16]\n"
          ],
          "name": "stdout"
        }
      ]
    },
    {
      "cell_type": "code",
      "metadata": {
        "id": "LPN2EFd27vXn",
        "colab_type": "code",
        "colab": {}
      },
      "source": [
        "numbers = (1, 2, 3, 4)\n",
        "result = list(map(lambda x: x*x, numbers))\n",
        "print(result)"
      ],
      "execution_count": null,
      "outputs": []
    },
    {
      "cell_type": "markdown",
      "metadata": {
        "id": "DNs9JFIS8U86",
        "colab_type": "text"
      },
      "source": [
        "## 7.4 Filter"
      ]
    },
    {
      "cell_type": "markdown",
      "metadata": {
        "id": "Jxm6iusJ8ZqG",
        "colab_type": "text"
      },
      "source": [
        "filter() method filters the given iterable with the help of a function that tests each element in the iterable to be true or not."
      ]
    },
    {
      "cell_type": "code",
      "metadata": {
        "id": "gXI-okPw8ZQO",
        "colab_type": "code",
        "colab": {
          "base_uri": "https://localhost:8080/",
          "height": 35
        },
        "outputId": "28d01996-de0b-476f-80fd-1b45df9836c6"
      },
      "source": [
        "letters = ['a', 'b', 'd', 'e', 'i', 'j', 'o']\n",
        "vowels = ['a', 'e', 'i', 'o', 'u']\n",
        "# filter(function, iterable)\n",
        "filteredVowels = filter(lambda x: x in vowels, letters)\n",
        "\n",
        "print('The filtered vowels are:', list(filteredVowels))"
      ],
      "execution_count": null,
      "outputs": [
        {
          "output_type": "stream",
          "text": [
            "The filtered vowels are: ['a', 'e', 'i', 'o']\n"
          ],
          "name": "stdout"
        }
      ]
    },
    {
      "cell_type": "markdown",
      "metadata": {
        "id": "1NBzw1m99owB",
        "colab_type": "text"
      },
      "source": [
        "## 7.5 Reduce"
      ]
    },
    {
      "cell_type": "markdown",
      "metadata": {
        "id": "KvPqCHNn9sBU",
        "colab_type": "text"
      },
      "source": [
        "The reduce() function is used to apply a particular function to all of the elements in an iterable. It is defined in functools module."
      ]
    },
    {
      "cell_type": "code",
      "metadata": {
        "id": "PFVl2cCI92-w",
        "colab_type": "code",
        "colab": {
          "base_uri": "https://localhost:8080/",
          "height": 35
        },
        "outputId": "ba5a7f72-3e4c-4da1-9561-ea4572e5af48"
      },
      "source": [
        "import functools as ft\n",
        "lis = [ 1 , 3, 5, 6, 2, ] \n",
        "  \n",
        "# using reduce to compute sum of list \n",
        "# reduce(function, iterable)\n",
        "print ('The sum of the list elements is : ',end='') \n",
        "print (ft.reduce(lambda a,b : a+b, lis)) "
      ],
      "execution_count": null,
      "outputs": [
        {
          "output_type": "stream",
          "text": [
            "The sum of the list elements is : 17\n"
          ],
          "name": "stdout"
        }
      ]
    },
    {
      "cell_type": "markdown",
      "metadata": {
        "id": "qeh6Hx3w-pfH",
        "colab_type": "text"
      },
      "source": [
        "#"
      ]
    },
    {
      "cell_type": "markdown",
      "metadata": {
        "id": "euhjxcxl_573",
        "colab_type": "text"
      },
      "source": [
        "# 8 Object Oriented Programming"
      ]
    },
    {
      "cell_type": "markdown",
      "metadata": {
        "id": "zGp3LtdF_89P",
        "colab_type": "text"
      },
      "source": [
        "The syntax for defining classes in Python is straightforward:"
      ]
    },
    {
      "cell_type": "code",
      "metadata": {
        "id": "8pJ_Wgd3AXrU",
        "colab_type": "code",
        "colab": {
          "base_uri": "https://localhost:8080/",
          "height": 35
        },
        "outputId": "ae68a681-39cc-4124-829b-af4194263b25"
      },
      "source": [
        "# define a class with class keyword and classname\n",
        "class MyClass:\n",
        "  x = 5\n",
        "\n",
        "p1 = MyClass()\n",
        "print(p1.x)"
      ],
      "execution_count": null,
      "outputs": [
        {
          "output_type": "stream",
          "text": [
            "5\n"
          ],
          "name": "stdout"
        }
      ]
    },
    {
      "cell_type": "markdown",
      "metadata": {
        "id": "w65jQPxXBrw-",
        "colab_type": "text"
      },
      "source": [
        "Defining classes with a constructor "
      ]
    },
    {
      "cell_type": "code",
      "metadata": {
        "id": "RImGTD7wAJ6t",
        "colab_type": "code",
        "colab": {
          "base_uri": "https://localhost:8080/",
          "height": 54
        },
        "outputId": "38effd31-714e-4eac-9a15-77a3a28b28f5"
      },
      "source": [
        "class Greeter:\n",
        "\n",
        "    # Constructor\n",
        "    def __init__(self, fname):\n",
        "        self.name = fname  # Create an instance variable\n",
        "\n",
        "    # Instance method\n",
        "    def greet(self, loud=False):\n",
        "        if loud:\n",
        "          print('HELLO, {}'.format(self.name.upper()))\n",
        "        else:\n",
        "          print('Hello, {}!'.format(self.name))\n",
        "\n",
        "g = Greeter('Fred')  # Construct an instance of the Greeter class\n",
        "g.greet()            # Call an instance method; prints \"Hello, Fred\"\n",
        "g.greet(loud=True)   # Call an instance method; prints \"HELLO, FRED!\""
      ],
      "execution_count": null,
      "outputs": [
        {
          "output_type": "stream",
          "text": [
            "Hello, Fred!\n",
            "HELLO, FRED\n"
          ],
          "name": "stdout"
        }
      ]
    },
    {
      "cell_type": "markdown",
      "metadata": {
        "id": "xdvoLmu2LoIh",
        "colab_type": "text"
      },
      "source": [
        "Inheritance"
      ]
    },
    {
      "cell_type": "code",
      "metadata": {
        "id": "NAr-MJX1Lrdo",
        "colab_type": "code",
        "colab": {
          "base_uri": "https://localhost:8080/",
          "height": 35
        },
        "outputId": "6ef12603-376a-44d9-8de8-50af438524d2"
      },
      "source": [
        "class Person:\n",
        "  def __init__(self, name):\n",
        "    self.name = name\n",
        "  def getname(self):\n",
        "    return self.name\n",
        "\n",
        "class Student(Person):\n",
        "  def __init__(self):\n",
        "    self.name = ''\n",
        "  def setname(self, name):\n",
        "    self.name = name\n",
        "\n",
        "s = Student()\n",
        "s.setname('Joey')\n",
        "print(s.getname())"
      ],
      "execution_count": null,
      "outputs": [
        {
          "output_type": "stream",
          "text": [
            "Joey\n"
          ],
          "name": "stdout"
        }
      ]
    },
    {
      "cell_type": "markdown",
      "metadata": {
        "id": "SmHyyaeZByvs",
        "colab_type": "text"
      },
      "source": [
        "# 9 File Handling"
      ]
    },
    {
      "cell_type": "markdown",
      "metadata": {
        "id": "YX2NlnVDB2gs",
        "colab_type": "text"
      },
      "source": [
        "Working with files in Python is very easy. The key function for working with files in Python is the open() function.\n",
        "The open() function takes two parameters; filename, and mode.\n",
        "\n",
        "\n",
        "---\n",
        "\n",
        "\n",
        "There are four different methods (modes) for opening a file:\n",
        "\n",
        "\"r\" - Read - Default value. Opens a file for reading, error if the file does not exist\n",
        "\n",
        "\"a\" - Append - Opens a file for appending, creates the file if it does not exist\n",
        "\n",
        "\"w\" - Write - Opens a file for writing, creates the file if it does not exist\n",
        "\n",
        "\"x\" - Create - Creates the specified file, returns an error if the file exists\n",
        "\n",
        "\n",
        "---\n",
        "\n",
        "\n",
        "In addition you can specify if the file should be handled as binary or text mode\n",
        "\n",
        "\"t\" - Text - Default value. Text mode\n",
        "\n",
        "\"b\" - Binary - Binary mode (e.g. images)\n"
      ]
    },
    {
      "cell_type": "code",
      "metadata": {
        "id": "aKo-CRWFCALF",
        "colab_type": "code",
        "colab": {}
      },
      "source": [
        "f = open('textfile.txt', 'w') #opening file in writemode and creates a new file if not found\n",
        "line = 'This is the first line\\nThis is the second line'\n",
        "f.write(line) #writing the line in file\n",
        "f.close() #closing the file"
      ],
      "execution_count": null,
      "outputs": []
    },
    {
      "cell_type": "markdown",
      "metadata": {
        "id": "hojx8G2HE_FV",
        "colab_type": "text"
      },
      "source": [
        "Reading a whole file in one go"
      ]
    },
    {
      "cell_type": "code",
      "metadata": {
        "id": "K23m1XVREA_f",
        "colab_type": "code",
        "colab": {
          "base_uri": "https://localhost:8080/",
          "height": 54
        },
        "outputId": "9862eb3b-8430-4242-cc57-464f85fbc574"
      },
      "source": [
        "f = open('textfile.txt', 'r') #opening file in read mode\n",
        "print(f.read()) #reading the whole file\n",
        "f.close()"
      ],
      "execution_count": null,
      "outputs": [
        {
          "output_type": "stream",
          "text": [
            "This is the first line\n",
            "This is the second line\n"
          ],
          "name": "stdout"
        }
      ]
    },
    {
      "cell_type": "markdown",
      "metadata": {
        "id": "3jjzoFTYFCIl",
        "colab_type": "text"
      },
      "source": [
        "Reading only one line from file"
      ]
    },
    {
      "cell_type": "code",
      "metadata": {
        "id": "D0V-nwrbE2SH",
        "colab_type": "code",
        "colab": {
          "base_uri": "https://localhost:8080/",
          "height": 72
        },
        "outputId": "97c14cf9-61ce-4bd6-a90c-2e0743fb1a65"
      },
      "source": [
        "f = open('textfile.txt', 'r')\n",
        "print(f.readline()) #reading only one line from current position(start)\n",
        "print(f.readline())\n",
        "f.close()"
      ],
      "execution_count": null,
      "outputs": [
        {
          "output_type": "stream",
          "text": [
            "This is the first line\n",
            "\n",
            "This is the second line\n"
          ],
          "name": "stdout"
        }
      ]
    },
    {
      "cell_type": "markdown",
      "metadata": {
        "id": "Trl5aOlbFGaI",
        "colab_type": "text"
      },
      "source": [
        "Reading the whole file as lines"
      ]
    },
    {
      "cell_type": "code",
      "metadata": {
        "id": "LbdEJODVE9LJ",
        "colab_type": "code",
        "colab": {
          "base_uri": "https://localhost:8080/",
          "height": 72
        },
        "outputId": "0de0ec73-6a66-479c-fdb2-d2de8713264e"
      },
      "source": [
        "f = open('textfile.txt', 'r')\n",
        "lines = f.readlines() #reading the whole file as a list of lines\n",
        "for line in lines:\n",
        "  print(line)\n",
        "f.close()"
      ],
      "execution_count": null,
      "outputs": [
        {
          "output_type": "stream",
          "text": [
            "This is the first line\n",
            "\n",
            "This is the second line\n"
          ],
          "name": "stdout"
        }
      ]
    },
    {
      "cell_type": "markdown",
      "metadata": {
        "id": "LsPnXSrJFhDO",
        "colab_type": "text"
      },
      "source": [
        "Another way to open a file:"
      ]
    },
    {
      "cell_type": "code",
      "metadata": {
        "id": "-fgBA7EqFRiI",
        "colab_type": "code",
        "colab": {
          "base_uri": "https://localhost:8080/",
          "height": 72
        },
        "outputId": "3d7e60a8-a58d-4a93-ee57-7b59d78217dd"
      },
      "source": [
        "with open('textfile.txt', 'r') as f:\n",
        "  print(f.readline().strip()) #Read a line and using strip to get read of newline character\n",
        "  print(f.read(6)) #Read specified number of characters from current position\n",
        "  print(f.tell()) #\tReturns the current file position"
      ],
      "execution_count": null,
      "outputs": [
        {
          "output_type": "stream",
          "text": [
            "This is the first line\n",
            "This i\n",
            "29\n"
          ],
          "name": "stdout"
        }
      ]
    },
    {
      "cell_type": "markdown",
      "metadata": {
        "id": "WnGcuaTrHW6A",
        "colab_type": "text"
      },
      "source": [
        "Opening the file in write mode which deletes the previous present data:"
      ]
    },
    {
      "cell_type": "code",
      "metadata": {
        "id": "89BfxDAbFqKY",
        "colab_type": "code",
        "colab": {}
      },
      "source": [
        "with open('textfile.txt', 'w') as f:\n",
        "  f.write('This will be the only line present as write mode deletes the previous data')"
      ],
      "execution_count": null,
      "outputs": []
    },
    {
      "cell_type": "code",
      "metadata": {
        "id": "2qtw2apiHLAe",
        "colab_type": "code",
        "colab": {
          "base_uri": "https://localhost:8080/",
          "height": 35
        },
        "outputId": "5967da8a-062c-4817-8c96-5b28510c6e12"
      },
      "source": [
        "with open('textfile.txt', 'r') as f:\n",
        "  print(f.read())"
      ],
      "execution_count": null,
      "outputs": [
        {
          "output_type": "stream",
          "text": [
            "This will be the only line present as write mode deletes the previous data\n"
          ],
          "name": "stdout"
        }
      ]
    },
    {
      "cell_type": "markdown",
      "metadata": {
        "id": "RFdpdzCuHi_8",
        "colab_type": "text"
      },
      "source": [
        "Opening the file in append mode:"
      ]
    },
    {
      "cell_type": "code",
      "metadata": {
        "id": "tkODACU_HoJD",
        "colab_type": "code",
        "colab": {}
      },
      "source": [
        "with open('textfile.txt', 'a') as f:\n",
        "  f.write('\\nThis will not delete the previous content because it has been opened in append mode')"
      ],
      "execution_count": null,
      "outputs": []
    },
    {
      "cell_type": "code",
      "metadata": {
        "id": "odGTll56H2bX",
        "colab_type": "code",
        "colab": {
          "base_uri": "https://localhost:8080/",
          "height": 74
        },
        "outputId": "b35f14ca-bb3c-4a55-b277-665ba171d75b"
      },
      "source": [
        "with open('textfile.txt', 'r') as f:\n",
        "  print(f.read())"
      ],
      "execution_count": null,
      "outputs": [
        {
          "output_type": "stream",
          "text": [
            "This will be the only line present as write mode deletes the previous data\n",
            "This will not delete the previous content because it has been opened in append mode\n"
          ],
          "name": "stdout"
        }
      ]
    },
    {
      "cell_type": "markdown",
      "metadata": {
        "id": "wnNZWUNzH_K0",
        "colab_type": "text"
      },
      "source": [
        "# 10 Exception Handling"
      ]
    },
    {
      "cell_type": "markdown",
      "metadata": {
        "id": "oYAL2rBqIZFc",
        "colab_type": "text"
      },
      "source": [
        "## 10.1 Try Except Finally"
      ]
    },
    {
      "cell_type": "markdown",
      "metadata": {
        "id": "iCNAULHyICxY",
        "colab_type": "text"
      },
      "source": [
        "The try block lets you test a block of code for errors.\n",
        "\n",
        "The except block lets you handle the error.\n",
        "\n",
        "The finally block lets you execute code, regardless of the result of the try- and except blocks."
      ]
    },
    {
      "cell_type": "code",
      "metadata": {
        "id": "fs-TyRxHIdDU",
        "colab_type": "code",
        "colab": {
          "base_uri": "https://localhost:8080/",
          "height": 54
        },
        "outputId": "a94c5339-d99e-4fb6-cafd-d144bff3dc48"
      },
      "source": [
        "del var\n",
        "try:\n",
        "  print(var)\n",
        "except:\n",
        "  print('An exception occurred')\n",
        "finally:\n",
        "  print('This will always execute')"
      ],
      "execution_count": null,
      "outputs": [
        {
          "output_type": "stream",
          "text": [
            "An exception occurred\n",
            "This will always execute\n"
          ],
          "name": "stdout"
        }
      ]
    },
    {
      "cell_type": "markdown",
      "metadata": {
        "id": "Pu7zpTT3JDJn",
        "colab_type": "text"
      },
      "source": [
        "## 10.2 Many exceptions "
      ]
    },
    {
      "cell_type": "markdown",
      "metadata": {
        "id": "kP7ymP_4KHWk",
        "colab_type": "text"
      },
      "source": [
        "You can define as many exception blocks as you want, e.g. if you want to execute a special block of code for a special kind of error:"
      ]
    },
    {
      "cell_type": "code",
      "metadata": {
        "id": "1vjU3GOEJLXO",
        "colab_type": "code",
        "colab": {
          "base_uri": "https://localhost:8080/",
          "height": 35
        },
        "outputId": "036a1375-531a-4a35-f21c-1eb11e208d5d"
      },
      "source": [
        "try:\n",
        "  print(var)\n",
        "except NameError:\n",
        "  print('Variable var is not defined')\n",
        "except:\n",
        "  print('Something else went wrong') "
      ],
      "execution_count": null,
      "outputs": [
        {
          "output_type": "stream",
          "text": [
            "Variable var is not defined\n"
          ],
          "name": "stdout"
        }
      ]
    },
    {
      "cell_type": "code",
      "metadata": {
        "id": "7fEzfM0kJeJ0",
        "colab_type": "code",
        "colab": {
          "base_uri": "https://localhost:8080/",
          "height": 35
        },
        "outputId": "0e1dc4b9-f963-4692-9f6e-7c4c1c835927"
      },
      "source": [
        "try:\n",
        "  print(10/0)\n",
        "except ZeroDivisionError:\n",
        "  print('You cannot divide by 0')\n",
        "except:\n",
        "  print('Something else went wrong') "
      ],
      "execution_count": null,
      "outputs": [
        {
          "output_type": "stream",
          "text": [
            "You cannot divide by 0\n"
          ],
          "name": "stdout"
        }
      ]
    },
    {
      "cell_type": "markdown",
      "metadata": {
        "id": "8hr0pRIlJ911",
        "colab_type": "text"
      },
      "source": [
        "## 10.3 Else"
      ]
    },
    {
      "cell_type": "markdown",
      "metadata": {
        "id": "LkW-KiOdKEQm",
        "colab_type": "text"
      },
      "source": [
        "You can use the else keyword to define a block of code to be executed if no errors were raised:"
      ]
    },
    {
      "cell_type": "code",
      "metadata": {
        "id": "-LBWow6mKBpx",
        "colab_type": "code",
        "colab": {
          "base_uri": "https://localhost:8080/",
          "height": 54
        },
        "outputId": "a114c136-a219-45ee-e1e3-b49459e09560"
      },
      "source": [
        "try:\n",
        "  print(\"Hello\")\n",
        "  print(var)\n",
        "except:\n",
        "  print(\"Something went wrong\")\n",
        "else:\n",
        "  print(\"Nothing went wrong\") "
      ],
      "execution_count": null,
      "outputs": [
        {
          "output_type": "stream",
          "text": [
            "Hello\n",
            "Something went wrong\n"
          ],
          "name": "stdout"
        }
      ]
    },
    {
      "cell_type": "markdown",
      "metadata": {
        "id": "XsoxevKCKNLk",
        "colab_type": "text"
      },
      "source": [
        "## 10.4 Raise an exception"
      ]
    },
    {
      "cell_type": "markdown",
      "metadata": {
        "id": "qkCwZzdSKRlk",
        "colab_type": "text"
      },
      "source": [
        "To throw (or raise) an exception, use the raise keyword."
      ]
    },
    {
      "cell_type": "code",
      "metadata": {
        "id": "UxU02WsOKUU8",
        "colab_type": "code",
        "colab": {}
      },
      "source": [
        "x = -1\n",
        "\n",
        "if x < 0:\n",
        "  raise Exception(\"Sorry, no numbers below zero\") "
      ],
      "execution_count": null,
      "outputs": []
    }
  ]
}